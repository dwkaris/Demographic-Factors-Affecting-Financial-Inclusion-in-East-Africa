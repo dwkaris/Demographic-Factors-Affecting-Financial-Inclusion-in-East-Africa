{
  "nbformat": 4,
  "nbformat_minor": 0,
  "metadata": {
    "colab": {
      "name": "DUNCAN_KARIUKI_WEEK4_PROJECT",
      "provenance": [],
      "authorship_tag": "ABX9TyNQhY2xnVohicelKhLme3H7",
      "include_colab_link": true
    },
    "kernelspec": {
      "name": "python3",
      "display_name": "Python 3"
    }
  },
  "cells": [
    {
      "cell_type": "markdown",
      "metadata": {
        "id": "view-in-github",
        "colab_type": "text"
      },
      "source": [
        "<a href=\"https://colab.research.google.com/github/dwkaris/Exploratory-Data-Analysis-WEEK-2-IP/blob/master/DUNCAN_KARIUKI_WEEK4_PROJECT.ipynb\" target=\"_parent\"><img src=\"https://colab.research.google.com/assets/colab-badge.svg\" alt=\"Open In Colab\"/></a>"
      ]
    },
    {
      "cell_type": "markdown",
      "metadata": {
        "id": "oUX_JbYIjwv9",
        "colab_type": "text"
      },
      "source": [
        "#**WEEK 4 INDEPENDENT PROJECT**"
      ]
    },
    {
      "cell_type": "markdown",
      "metadata": {
        "id": "ozkjerPSkE2f",
        "colab_type": "text"
      },
      "source": [
        "#**HYPOTHESIS TESTING**"
      ]
    },
    {
      "cell_type": "markdown",
      "metadata": {
        "id": "mgkQ7a6Klco7",
        "colab_type": "text"
      },
      "source": [
        "#1.DEFINING THE ANALYTIC QUESTION"
      ]
    },
    {
      "cell_type": "markdown",
      "metadata": {
        "id": "lNAYo6XDlgJH",
        "colab_type": "text"
      },
      "source": [
        "##a) SPECIFYING THE DATA ANALYTIC QUESTION"
      ]
    },
    {
      "cell_type": "markdown",
      "metadata": {
        "id": "ISmKvxaOoxEE",
        "colab_type": "text"
      },
      "source": [
        "Is the number of bluecars taken from paris on weekdays less than the average number of 8000 bluecars rented in a day?\n"
      ]
    },
    {
      "cell_type": "markdown",
      "metadata": {
        "id": "BGwGnmZ9ppVe",
        "colab_type": "text"
      },
      "source": [
        "##b) DEFINING THE METRICS OF SUCCESS"
      ]
    },
    {
      "cell_type": "markdown",
      "metadata": {
        "id": "_Nlab_h7p2dq",
        "colab_type": "text"
      },
      "source": [
        "Conducting an experiment to determine the claim that number of bluecars taken from paris on weekdays is less than from the average number of 8000 bluecars rented in a day"
      ]
    },
    {
      "cell_type": "markdown",
      "metadata": {
        "id": "MEDkmEoFsGid",
        "colab_type": "text"
      },
      "source": [
        "##c) UNDERSTANDING THE CONTEXT"
      ]
    },
    {
      "cell_type": "markdown",
      "metadata": {
        "id": "IuULssPMsI-W",
        "colab_type": "text"
      },
      "source": [
        "Our research problem aims at figuring out if the number of bluecars taken from paris on weekdays is less than the average number of  bluecars rented in a day. This will help the company undestand the demand and usage of the blue cars and hence help boost the companies performance.\n"
      ]
    },
    {
      "cell_type": "markdown",
      "metadata": {
        "id": "CVSGinpHuzaB",
        "colab_type": "text"
      },
      "source": [
        "##d) RECORDING THE EXPERIMETAL DESIGN"
      ]
    },
    {
      "cell_type": "markdown",
      "metadata": {
        "id": "GoxTMfZEu1Oy",
        "colab_type": "text"
      },
      "source": [
        "\n",
        "1.   We will first conduct univariate analysis which will give us insight into each collected variable\n",
        "2.   We will then conduct bivariate analysis which will enable us to check relationships between our collected variables\n",
        "\n"
      ]
    },
    {
      "cell_type": "markdown",
      "metadata": {
        "id": "8HF6jsfBvJce",
        "colab_type": "text"
      },
      "source": [
        "##e) DATA RELEVANCE"
      ]
    },
    {
      "cell_type": "markdown",
      "metadata": {
        "id": "U3BIhLd2vR34",
        "colab_type": "text"
      },
      "source": [
        "OUR DATA IS RELEVANT AS IT WILL ACT AS A SAMPLE REPRESENTING ALL NUMBER OF BLUECARS RENTED OUT BY THE AUTOLIB SYSYTEM."
      ]
    },
    {
      "cell_type": "markdown",
      "metadata": {
        "id": "s7zXS2R1j74m",
        "colab_type": "text"
      },
      "source": [
        "#2.READING DATA"
      ]
    },
    {
      "cell_type": "markdown",
      "metadata": {
        "id": "xBzU4G_NkYXy",
        "colab_type": "text"
      },
      "source": [
        "##IMPORTING OUR LIBRARIES"
      ]
    },
    {
      "cell_type": "code",
      "metadata": {
        "id": "ZZzMxANakweC",
        "colab_type": "code",
        "colab": {}
      },
      "source": [
        "import pandas as pd\n",
        "import numpy as np\n",
        "import matplotlib.pyplot as plt\n",
        "import seaborn as sns"
      ],
      "execution_count": 0,
      "outputs": []
    },
    {
      "cell_type": "markdown",
      "metadata": {
        "id": "zRHZpSQelA3g",
        "colab_type": "text"
      },
      "source": [
        "##LOADING OUR DATASET"
      ]
    },
    {
      "cell_type": "code",
      "metadata": {
        "id": "7Ti-u7CXwpFO",
        "colab_type": "code",
        "colab": {}
      },
      "source": [
        "auto = pd.read_csv('http://bit.ly/DSCoreAutolibDataset')\n"
      ],
      "execution_count": 0,
      "outputs": []
    },
    {
      "cell_type": "markdown",
      "metadata": {
        "id": "ZIhk9y46w-EU",
        "colab_type": "text"
      },
      "source": [
        "#3.CHEKING THE DATA"
      ]
    },
    {
      "cell_type": "code",
      "metadata": {
        "id": "lMILfaqZw0yO",
        "colab_type": "code",
        "colab": {
          "base_uri": "https://localhost:8080/",
          "height": 34
        },
        "outputId": "92a8ed9a-c67a-44bb-afe8-bc06ce3f8ea4"
      },
      "source": [
        "#Cheking the no. records of data in our dataset\n",
        "auto.shape"
      ],
      "execution_count": 407,
      "outputs": [
        {
          "output_type": "execute_result",
          "data": {
            "text/plain": [
              "(16085, 13)"
            ]
          },
          "metadata": {
            "tags": []
          },
          "execution_count": 407
        }
      ]
    },
    {
      "cell_type": "code",
      "metadata": {
        "id": "AIAzE47cxJdO",
        "colab_type": "code",
        "colab": {
          "base_uri": "https://localhost:8080/",
          "height": 234
        },
        "outputId": "d75d06d8-d915-48e9-f5d7-4ba515d64bb0"
      },
      "source": [
        "#Preview the top 5 rows of our dataset\n",
        "auto.head()"
      ],
      "execution_count": 408,
      "outputs": [
        {
          "output_type": "execute_result",
          "data": {
            "text/html": [
              "<div>\n",
              "<style scoped>\n",
              "    .dataframe tbody tr th:only-of-type {\n",
              "        vertical-align: middle;\n",
              "    }\n",
              "\n",
              "    .dataframe tbody tr th {\n",
              "        vertical-align: top;\n",
              "    }\n",
              "\n",
              "    .dataframe thead th {\n",
              "        text-align: right;\n",
              "    }\n",
              "</style>\n",
              "<table border=\"1\" class=\"dataframe\">\n",
              "  <thead>\n",
              "    <tr style=\"text-align: right;\">\n",
              "      <th></th>\n",
              "      <th>Postal code</th>\n",
              "      <th>date</th>\n",
              "      <th>n_daily_data_points</th>\n",
              "      <th>dayOfWeek</th>\n",
              "      <th>day_type</th>\n",
              "      <th>BlueCars_taken_sum</th>\n",
              "      <th>BlueCars_returned_sum</th>\n",
              "      <th>Utilib_taken_sum</th>\n",
              "      <th>Utilib_returned_sum</th>\n",
              "      <th>Utilib_14_taken_sum</th>\n",
              "      <th>Utilib_14_returned_sum</th>\n",
              "      <th>Slots_freed_sum</th>\n",
              "      <th>Slots_taken_sum</th>\n",
              "    </tr>\n",
              "  </thead>\n",
              "  <tbody>\n",
              "    <tr>\n",
              "      <th>0</th>\n",
              "      <td>75001</td>\n",
              "      <td>1/1/2018</td>\n",
              "      <td>1440</td>\n",
              "      <td>0</td>\n",
              "      <td>weekday</td>\n",
              "      <td>110</td>\n",
              "      <td>103</td>\n",
              "      <td>3</td>\n",
              "      <td>2</td>\n",
              "      <td>10</td>\n",
              "      <td>9</td>\n",
              "      <td>22</td>\n",
              "      <td>20</td>\n",
              "    </tr>\n",
              "    <tr>\n",
              "      <th>1</th>\n",
              "      <td>75001</td>\n",
              "      <td>1/2/2018</td>\n",
              "      <td>1438</td>\n",
              "      <td>1</td>\n",
              "      <td>weekday</td>\n",
              "      <td>98</td>\n",
              "      <td>94</td>\n",
              "      <td>1</td>\n",
              "      <td>1</td>\n",
              "      <td>8</td>\n",
              "      <td>8</td>\n",
              "      <td>23</td>\n",
              "      <td>22</td>\n",
              "    </tr>\n",
              "    <tr>\n",
              "      <th>2</th>\n",
              "      <td>75001</td>\n",
              "      <td>1/3/2018</td>\n",
              "      <td>1439</td>\n",
              "      <td>2</td>\n",
              "      <td>weekday</td>\n",
              "      <td>138</td>\n",
              "      <td>139</td>\n",
              "      <td>0</td>\n",
              "      <td>0</td>\n",
              "      <td>2</td>\n",
              "      <td>2</td>\n",
              "      <td>27</td>\n",
              "      <td>27</td>\n",
              "    </tr>\n",
              "    <tr>\n",
              "      <th>3</th>\n",
              "      <td>75001</td>\n",
              "      <td>1/4/2018</td>\n",
              "      <td>1320</td>\n",
              "      <td>3</td>\n",
              "      <td>weekday</td>\n",
              "      <td>104</td>\n",
              "      <td>104</td>\n",
              "      <td>2</td>\n",
              "      <td>2</td>\n",
              "      <td>9</td>\n",
              "      <td>8</td>\n",
              "      <td>25</td>\n",
              "      <td>21</td>\n",
              "    </tr>\n",
              "    <tr>\n",
              "      <th>4</th>\n",
              "      <td>75001</td>\n",
              "      <td>1/5/2018</td>\n",
              "      <td>1440</td>\n",
              "      <td>4</td>\n",
              "      <td>weekday</td>\n",
              "      <td>114</td>\n",
              "      <td>117</td>\n",
              "      <td>3</td>\n",
              "      <td>3</td>\n",
              "      <td>6</td>\n",
              "      <td>6</td>\n",
              "      <td>18</td>\n",
              "      <td>20</td>\n",
              "    </tr>\n",
              "  </tbody>\n",
              "</table>\n",
              "</div>"
            ],
            "text/plain": [
              "   Postal code      date  ...  Slots_freed_sum  Slots_taken_sum\n",
              "0        75001  1/1/2018  ...               22               20\n",
              "1        75001  1/2/2018  ...               23               22\n",
              "2        75001  1/3/2018  ...               27               27\n",
              "3        75001  1/4/2018  ...               25               21\n",
              "4        75001  1/5/2018  ...               18               20\n",
              "\n",
              "[5 rows x 13 columns]"
            ]
          },
          "metadata": {
            "tags": []
          },
          "execution_count": 408
        }
      ]
    },
    {
      "cell_type": "code",
      "metadata": {
        "id": "AnKaONXdxaHb",
        "colab_type": "code",
        "colab": {
          "base_uri": "https://localhost:8080/",
          "height": 234
        },
        "outputId": "b6a72244-422e-442f-ef22-9f1ee184036a"
      },
      "source": [
        "# Preview bottom 5 rows of our dataset\n",
        "auto.tail()"
      ],
      "execution_count": 409,
      "outputs": [
        {
          "output_type": "execute_result",
          "data": {
            "text/html": [
              "<div>\n",
              "<style scoped>\n",
              "    .dataframe tbody tr th:only-of-type {\n",
              "        vertical-align: middle;\n",
              "    }\n",
              "\n",
              "    .dataframe tbody tr th {\n",
              "        vertical-align: top;\n",
              "    }\n",
              "\n",
              "    .dataframe thead th {\n",
              "        text-align: right;\n",
              "    }\n",
              "</style>\n",
              "<table border=\"1\" class=\"dataframe\">\n",
              "  <thead>\n",
              "    <tr style=\"text-align: right;\">\n",
              "      <th></th>\n",
              "      <th>Postal code</th>\n",
              "      <th>date</th>\n",
              "      <th>n_daily_data_points</th>\n",
              "      <th>dayOfWeek</th>\n",
              "      <th>day_type</th>\n",
              "      <th>BlueCars_taken_sum</th>\n",
              "      <th>BlueCars_returned_sum</th>\n",
              "      <th>Utilib_taken_sum</th>\n",
              "      <th>Utilib_returned_sum</th>\n",
              "      <th>Utilib_14_taken_sum</th>\n",
              "      <th>Utilib_14_returned_sum</th>\n",
              "      <th>Slots_freed_sum</th>\n",
              "      <th>Slots_taken_sum</th>\n",
              "    </tr>\n",
              "  </thead>\n",
              "  <tbody>\n",
              "    <tr>\n",
              "      <th>16080</th>\n",
              "      <td>95880</td>\n",
              "      <td>6/15/2018</td>\n",
              "      <td>1440</td>\n",
              "      <td>4</td>\n",
              "      <td>weekday</td>\n",
              "      <td>15</td>\n",
              "      <td>10</td>\n",
              "      <td>0</td>\n",
              "      <td>0</td>\n",
              "      <td>2</td>\n",
              "      <td>3</td>\n",
              "      <td>0</td>\n",
              "      <td>0</td>\n",
              "    </tr>\n",
              "    <tr>\n",
              "      <th>16081</th>\n",
              "      <td>95880</td>\n",
              "      <td>6/16/2018</td>\n",
              "      <td>1440</td>\n",
              "      <td>5</td>\n",
              "      <td>weekend</td>\n",
              "      <td>19</td>\n",
              "      <td>19</td>\n",
              "      <td>0</td>\n",
              "      <td>0</td>\n",
              "      <td>2</td>\n",
              "      <td>1</td>\n",
              "      <td>0</td>\n",
              "      <td>0</td>\n",
              "    </tr>\n",
              "    <tr>\n",
              "      <th>16082</th>\n",
              "      <td>95880</td>\n",
              "      <td>6/17/2018</td>\n",
              "      <td>1440</td>\n",
              "      <td>6</td>\n",
              "      <td>weekend</td>\n",
              "      <td>33</td>\n",
              "      <td>35</td>\n",
              "      <td>1</td>\n",
              "      <td>1</td>\n",
              "      <td>0</td>\n",
              "      <td>0</td>\n",
              "      <td>0</td>\n",
              "      <td>0</td>\n",
              "    </tr>\n",
              "    <tr>\n",
              "      <th>16083</th>\n",
              "      <td>95880</td>\n",
              "      <td>6/18/2018</td>\n",
              "      <td>1440</td>\n",
              "      <td>0</td>\n",
              "      <td>weekday</td>\n",
              "      <td>11</td>\n",
              "      <td>14</td>\n",
              "      <td>3</td>\n",
              "      <td>5</td>\n",
              "      <td>2</td>\n",
              "      <td>2</td>\n",
              "      <td>0</td>\n",
              "      <td>0</td>\n",
              "    </tr>\n",
              "    <tr>\n",
              "      <th>16084</th>\n",
              "      <td>95880</td>\n",
              "      <td>6/19/2018</td>\n",
              "      <td>1370</td>\n",
              "      <td>1</td>\n",
              "      <td>weekday</td>\n",
              "      <td>2</td>\n",
              "      <td>2</td>\n",
              "      <td>2</td>\n",
              "      <td>1</td>\n",
              "      <td>0</td>\n",
              "      <td>0</td>\n",
              "      <td>0</td>\n",
              "      <td>0</td>\n",
              "    </tr>\n",
              "  </tbody>\n",
              "</table>\n",
              "</div>"
            ],
            "text/plain": [
              "       Postal code       date  ...  Slots_freed_sum  Slots_taken_sum\n",
              "16080        95880  6/15/2018  ...                0                0\n",
              "16081        95880  6/16/2018  ...                0                0\n",
              "16082        95880  6/17/2018  ...                0                0\n",
              "16083        95880  6/18/2018  ...                0                0\n",
              "16084        95880  6/19/2018  ...                0                0\n",
              "\n",
              "[5 rows x 13 columns]"
            ]
          },
          "metadata": {
            "tags": []
          },
          "execution_count": 409
        }
      ]
    },
    {
      "cell_type": "code",
      "metadata": {
        "id": "_m2R0hADxk8G",
        "colab_type": "code",
        "colab": {
          "base_uri": "https://localhost:8080/",
          "height": 372
        },
        "outputId": "ef3fb2bd-8c33-47f1-ed5b-3fb098943371"
      },
      "source": [
        "# checking for information about our data\n",
        "auto.info()"
      ],
      "execution_count": 410,
      "outputs": [
        {
          "output_type": "stream",
          "text": [
            "<class 'pandas.core.frame.DataFrame'>\n",
            "RangeIndex: 16085 entries, 0 to 16084\n",
            "Data columns (total 13 columns):\n",
            " #   Column                  Non-Null Count  Dtype \n",
            "---  ------                  --------------  ----- \n",
            " 0   Postal code             16085 non-null  int64 \n",
            " 1   date                    16085 non-null  object\n",
            " 2   n_daily_data_points     16085 non-null  int64 \n",
            " 3   dayOfWeek               16085 non-null  int64 \n",
            " 4   day_type                16085 non-null  object\n",
            " 5   BlueCars_taken_sum      16085 non-null  int64 \n",
            " 6   BlueCars_returned_sum   16085 non-null  int64 \n",
            " 7   Utilib_taken_sum        16085 non-null  int64 \n",
            " 8   Utilib_returned_sum     16085 non-null  int64 \n",
            " 9   Utilib_14_taken_sum     16085 non-null  int64 \n",
            " 10  Utilib_14_returned_sum  16085 non-null  int64 \n",
            " 11  Slots_freed_sum         16085 non-null  int64 \n",
            " 12  Slots_taken_sum         16085 non-null  int64 \n",
            "dtypes: int64(11), object(2)\n",
            "memory usage: 1.6+ MB\n"
          ],
          "name": "stdout"
        }
      ]
    },
    {
      "cell_type": "code",
      "metadata": {
        "id": "rXUoM2BW_jUn",
        "colab_type": "code",
        "colab": {
          "base_uri": "https://localhost:8080/",
          "height": 307
        },
        "outputId": "0137282a-2125-49df-db43-be6f207a0d11"
      },
      "source": [
        "#describing our data inorder to understand it\n",
        "auto.describe()"
      ],
      "execution_count": 411,
      "outputs": [
        {
          "output_type": "execute_result",
          "data": {
            "text/html": [
              "<div>\n",
              "<style scoped>\n",
              "    .dataframe tbody tr th:only-of-type {\n",
              "        vertical-align: middle;\n",
              "    }\n",
              "\n",
              "    .dataframe tbody tr th {\n",
              "        vertical-align: top;\n",
              "    }\n",
              "\n",
              "    .dataframe thead th {\n",
              "        text-align: right;\n",
              "    }\n",
              "</style>\n",
              "<table border=\"1\" class=\"dataframe\">\n",
              "  <thead>\n",
              "    <tr style=\"text-align: right;\">\n",
              "      <th></th>\n",
              "      <th>Postal code</th>\n",
              "      <th>n_daily_data_points</th>\n",
              "      <th>dayOfWeek</th>\n",
              "      <th>BlueCars_taken_sum</th>\n",
              "      <th>BlueCars_returned_sum</th>\n",
              "      <th>Utilib_taken_sum</th>\n",
              "      <th>Utilib_returned_sum</th>\n",
              "      <th>Utilib_14_taken_sum</th>\n",
              "      <th>Utilib_14_returned_sum</th>\n",
              "      <th>Slots_freed_sum</th>\n",
              "      <th>Slots_taken_sum</th>\n",
              "    </tr>\n",
              "  </thead>\n",
              "  <tbody>\n",
              "    <tr>\n",
              "      <th>count</th>\n",
              "      <td>16085.000000</td>\n",
              "      <td>16085.000000</td>\n",
              "      <td>16085.000000</td>\n",
              "      <td>16085.000000</td>\n",
              "      <td>16085.000000</td>\n",
              "      <td>16085.000000</td>\n",
              "      <td>16085.000000</td>\n",
              "      <td>16085.000000</td>\n",
              "      <td>16085.000000</td>\n",
              "      <td>16085.000000</td>\n",
              "      <td>16085.000000</td>\n",
              "    </tr>\n",
              "    <tr>\n",
              "      <th>mean</th>\n",
              "      <td>88791.293876</td>\n",
              "      <td>1431.330619</td>\n",
              "      <td>2.969599</td>\n",
              "      <td>125.926951</td>\n",
              "      <td>125.912714</td>\n",
              "      <td>3.698290</td>\n",
              "      <td>3.699099</td>\n",
              "      <td>8.600560</td>\n",
              "      <td>8.599192</td>\n",
              "      <td>22.629033</td>\n",
              "      <td>22.629282</td>\n",
              "    </tr>\n",
              "    <tr>\n",
              "      <th>std</th>\n",
              "      <td>7647.342000</td>\n",
              "      <td>33.212050</td>\n",
              "      <td>2.008378</td>\n",
              "      <td>185.426579</td>\n",
              "      <td>185.501535</td>\n",
              "      <td>5.815058</td>\n",
              "      <td>5.824634</td>\n",
              "      <td>12.870098</td>\n",
              "      <td>12.868993</td>\n",
              "      <td>52.120263</td>\n",
              "      <td>52.146030</td>\n",
              "    </tr>\n",
              "    <tr>\n",
              "      <th>min</th>\n",
              "      <td>75001.000000</td>\n",
              "      <td>1174.000000</td>\n",
              "      <td>0.000000</td>\n",
              "      <td>0.000000</td>\n",
              "      <td>0.000000</td>\n",
              "      <td>0.000000</td>\n",
              "      <td>0.000000</td>\n",
              "      <td>0.000000</td>\n",
              "      <td>0.000000</td>\n",
              "      <td>0.000000</td>\n",
              "      <td>0.000000</td>\n",
              "    </tr>\n",
              "    <tr>\n",
              "      <th>25%</th>\n",
              "      <td>91330.000000</td>\n",
              "      <td>1439.000000</td>\n",
              "      <td>1.000000</td>\n",
              "      <td>20.000000</td>\n",
              "      <td>20.000000</td>\n",
              "      <td>0.000000</td>\n",
              "      <td>0.000000</td>\n",
              "      <td>1.000000</td>\n",
              "      <td>1.000000</td>\n",
              "      <td>0.000000</td>\n",
              "      <td>0.000000</td>\n",
              "    </tr>\n",
              "    <tr>\n",
              "      <th>50%</th>\n",
              "      <td>92340.000000</td>\n",
              "      <td>1440.000000</td>\n",
              "      <td>3.000000</td>\n",
              "      <td>46.000000</td>\n",
              "      <td>46.000000</td>\n",
              "      <td>1.000000</td>\n",
              "      <td>1.000000</td>\n",
              "      <td>3.000000</td>\n",
              "      <td>3.000000</td>\n",
              "      <td>0.000000</td>\n",
              "      <td>0.000000</td>\n",
              "    </tr>\n",
              "    <tr>\n",
              "      <th>75%</th>\n",
              "      <td>93400.000000</td>\n",
              "      <td>1440.000000</td>\n",
              "      <td>5.000000</td>\n",
              "      <td>135.000000</td>\n",
              "      <td>135.000000</td>\n",
              "      <td>4.000000</td>\n",
              "      <td>4.000000</td>\n",
              "      <td>10.000000</td>\n",
              "      <td>10.000000</td>\n",
              "      <td>5.000000</td>\n",
              "      <td>5.000000</td>\n",
              "    </tr>\n",
              "    <tr>\n",
              "      <th>max</th>\n",
              "      <td>95880.000000</td>\n",
              "      <td>1440.000000</td>\n",
              "      <td>6.000000</td>\n",
              "      <td>1352.000000</td>\n",
              "      <td>1332.000000</td>\n",
              "      <td>54.000000</td>\n",
              "      <td>58.000000</td>\n",
              "      <td>100.000000</td>\n",
              "      <td>101.000000</td>\n",
              "      <td>360.000000</td>\n",
              "      <td>359.000000</td>\n",
              "    </tr>\n",
              "  </tbody>\n",
              "</table>\n",
              "</div>"
            ],
            "text/plain": [
              "        Postal code  n_daily_data_points  ...  Slots_freed_sum  Slots_taken_sum\n",
              "count  16085.000000         16085.000000  ...     16085.000000     16085.000000\n",
              "mean   88791.293876          1431.330619  ...        22.629033        22.629282\n",
              "std     7647.342000            33.212050  ...        52.120263        52.146030\n",
              "min    75001.000000          1174.000000  ...         0.000000         0.000000\n",
              "25%    91330.000000          1439.000000  ...         0.000000         0.000000\n",
              "50%    92340.000000          1440.000000  ...         0.000000         0.000000\n",
              "75%    93400.000000          1440.000000  ...         5.000000         5.000000\n",
              "max    95880.000000          1440.000000  ...       360.000000       359.000000\n",
              "\n",
              "[8 rows x 11 columns]"
            ]
          },
          "metadata": {
            "tags": []
          },
          "execution_count": 411
        }
      ]
    },
    {
      "cell_type": "markdown",
      "metadata": {
        "id": "xgwjSqBQyjwM",
        "colab_type": "text"
      },
      "source": [
        "#4.EXTERNAL DATASOURCE VALIDATION"
      ]
    },
    {
      "cell_type": "markdown",
      "metadata": {
        "id": "pIf1Pk3YysDc",
        "colab_type": "text"
      },
      "source": [
        "Making sure your data matches something outside of the dataset is very important. It allows you to ensure that the measurements are roughly in line with what they should be and it serves as a check on what other things might be wrong in your dataset. External validation can often be as simple as checking your data against a single number."
      ]
    },
    {
      "cell_type": "markdown",
      "metadata": {
        "id": "HqXJPFOIy2Du",
        "colab_type": "text"
      },
      "source": [
        "#5.TIDYING THE DATASET"
      ]
    },
    {
      "cell_type": "code",
      "metadata": {
        "id": "BvWsYKZUxpsl",
        "colab_type": "code",
        "colab": {}
      },
      "source": [
        "# Removing white spaces and ensuring uniformity in our dataset\n",
        "# replace '/' with '-' on the date column\n",
        "auto.columns = auto.columns.str.strip().str.replace(' ',' ').str.upper()\n",
        "auto['DATE'] = auto['DATE'].str.strip().str.replace('/','-')\n",
        "auto['DAY_TYPE']= auto['DAY_TYPE'].str.strip().str.replace(' ',' ').str.lower()"
      ],
      "execution_count": 0,
      "outputs": []
    },
    {
      "cell_type": "code",
      "metadata": {
        "id": "Y5CEQY7_-CaX",
        "colab_type": "code",
        "colab": {
          "base_uri": "https://localhost:8080/",
          "height": 197
        },
        "outputId": "a228c93a-fba7-482d-f887-9159a1cf919f"
      },
      "source": [
        "df.head()"
      ],
      "execution_count": 413,
      "outputs": [
        {
          "output_type": "execute_result",
          "data": {
            "text/html": [
              "<div>\n",
              "<style scoped>\n",
              "    .dataframe tbody tr th:only-of-type {\n",
              "        vertical-align: middle;\n",
              "    }\n",
              "\n",
              "    .dataframe tbody tr th {\n",
              "        vertical-align: top;\n",
              "    }\n",
              "\n",
              "    .dataframe thead th {\n",
              "        text-align: right;\n",
              "    }\n",
              "</style>\n",
              "<table border=\"1\" class=\"dataframe\">\n",
              "  <thead>\n",
              "    <tr style=\"text-align: right;\">\n",
              "      <th></th>\n",
              "      <th>DATE</th>\n",
              "      <th>BLUECARS_RETURNED_SUM</th>\n",
              "      <th>BLUECARS_TAKEN_SUM</th>\n",
              "      <th>SLOTS_FREED_SUM</th>\n",
              "      <th>SLOTS_TAKEN_SUM</th>\n",
              "    </tr>\n",
              "  </thead>\n",
              "  <tbody>\n",
              "    <tr>\n",
              "      <th>0</th>\n",
              "      <td>1-1-2018</td>\n",
              "      <td>8144</td>\n",
              "      <td>8098</td>\n",
              "      <td>1906</td>\n",
              "      <td>1897</td>\n",
              "    </tr>\n",
              "    <tr>\n",
              "      <th>1</th>\n",
              "      <td>1-10-2018</td>\n",
              "      <td>7565</td>\n",
              "      <td>7695</td>\n",
              "      <td>1883</td>\n",
              "      <td>1855</td>\n",
              "    </tr>\n",
              "    <tr>\n",
              "      <th>2</th>\n",
              "      <td>1-11-2018</td>\n",
              "      <td>7807</td>\n",
              "      <td>7738</td>\n",
              "      <td>1917</td>\n",
              "      <td>1928</td>\n",
              "    </tr>\n",
              "    <tr>\n",
              "      <th>3</th>\n",
              "      <td>1-12-2018</td>\n",
              "      <td>8609</td>\n",
              "      <td>8668</td>\n",
              "      <td>2104</td>\n",
              "      <td>2100</td>\n",
              "    </tr>\n",
              "    <tr>\n",
              "      <th>4</th>\n",
              "      <td>1-15-2018</td>\n",
              "      <td>7451</td>\n",
              "      <td>7443</td>\n",
              "      <td>1820</td>\n",
              "      <td>1790</td>\n",
              "    </tr>\n",
              "  </tbody>\n",
              "</table>\n",
              "</div>"
            ],
            "text/plain": [
              "        DATE  BLUECARS_RETURNED_SUM  ...  SLOTS_FREED_SUM  SLOTS_TAKEN_SUM\n",
              "0   1-1-2018                   8144  ...             1906             1897\n",
              "1  1-10-2018                   7565  ...             1883             1855\n",
              "2  1-11-2018                   7807  ...             1917             1928\n",
              "3  1-12-2018                   8609  ...             2104             2100\n",
              "4  1-15-2018                   7451  ...             1820             1790\n",
              "\n",
              "[5 rows x 5 columns]"
            ]
          },
          "metadata": {
            "tags": []
          },
          "execution_count": 413
        }
      ]
    },
    {
      "cell_type": "code",
      "metadata": {
        "id": "pu1bP1zE-DPY",
        "colab_type": "code",
        "colab": {
          "base_uri": "https://localhost:8080/",
          "height": 265
        },
        "outputId": "7235c488-6fc5-4bf4-9d8d-143fb7cc4e45"
      },
      "source": [
        "# Identifying the Missing Data\n",
        "auto.isnull().sum()\n",
        "# There are no missing values hence we will not perform any action to drop values from our dataset"
      ],
      "execution_count": 414,
      "outputs": [
        {
          "output_type": "execute_result",
          "data": {
            "text/plain": [
              "POSTAL CODE               0\n",
              "DATE                      0\n",
              "N_DAILY_DATA_POINTS       0\n",
              "DAYOFWEEK                 0\n",
              "DAY_TYPE                  0\n",
              "BLUECARS_TAKEN_SUM        0\n",
              "BLUECARS_RETURNED_SUM     0\n",
              "UTILIB_TAKEN_SUM          0\n",
              "UTILIB_RETURNED_SUM       0\n",
              "UTILIB_14_TAKEN_SUM       0\n",
              "UTILIB_14_RETURNED_SUM    0\n",
              "SLOTS_FREED_SUM           0\n",
              "SLOTS_TAKEN_SUM           0\n",
              "dtype: int64"
            ]
          },
          "metadata": {
            "tags": []
          },
          "execution_count": 414
        }
      ]
    },
    {
      "cell_type": "code",
      "metadata": {
        "id": "sVzsy0KgAG29",
        "colab_type": "code",
        "colab": {
          "base_uri": "https://localhost:8080/",
          "height": 317
        },
        "outputId": "ac4c0c1f-e4db-4ceb-d1c3-50f39e0f85aa"
      },
      "source": [
        "#drop duplicates in our data if any\n",
        "auto.drop_duplicates().head()"
      ],
      "execution_count": 415,
      "outputs": [
        {
          "output_type": "execute_result",
          "data": {
            "text/html": [
              "<div>\n",
              "<style scoped>\n",
              "    .dataframe tbody tr th:only-of-type {\n",
              "        vertical-align: middle;\n",
              "    }\n",
              "\n",
              "    .dataframe tbody tr th {\n",
              "        vertical-align: top;\n",
              "    }\n",
              "\n",
              "    .dataframe thead th {\n",
              "        text-align: right;\n",
              "    }\n",
              "</style>\n",
              "<table border=\"1\" class=\"dataframe\">\n",
              "  <thead>\n",
              "    <tr style=\"text-align: right;\">\n",
              "      <th></th>\n",
              "      <th>POSTAL CODE</th>\n",
              "      <th>DATE</th>\n",
              "      <th>N_DAILY_DATA_POINTS</th>\n",
              "      <th>DAYOFWEEK</th>\n",
              "      <th>DAY_TYPE</th>\n",
              "      <th>BLUECARS_TAKEN_SUM</th>\n",
              "      <th>BLUECARS_RETURNED_SUM</th>\n",
              "      <th>UTILIB_TAKEN_SUM</th>\n",
              "      <th>UTILIB_RETURNED_SUM</th>\n",
              "      <th>UTILIB_14_TAKEN_SUM</th>\n",
              "      <th>UTILIB_14_RETURNED_SUM</th>\n",
              "      <th>SLOTS_FREED_SUM</th>\n",
              "      <th>SLOTS_TAKEN_SUM</th>\n",
              "    </tr>\n",
              "  </thead>\n",
              "  <tbody>\n",
              "    <tr>\n",
              "      <th>0</th>\n",
              "      <td>75001</td>\n",
              "      <td>1-1-2018</td>\n",
              "      <td>1440</td>\n",
              "      <td>0</td>\n",
              "      <td>weekday</td>\n",
              "      <td>110</td>\n",
              "      <td>103</td>\n",
              "      <td>3</td>\n",
              "      <td>2</td>\n",
              "      <td>10</td>\n",
              "      <td>9</td>\n",
              "      <td>22</td>\n",
              "      <td>20</td>\n",
              "    </tr>\n",
              "    <tr>\n",
              "      <th>1</th>\n",
              "      <td>75001</td>\n",
              "      <td>1-2-2018</td>\n",
              "      <td>1438</td>\n",
              "      <td>1</td>\n",
              "      <td>weekday</td>\n",
              "      <td>98</td>\n",
              "      <td>94</td>\n",
              "      <td>1</td>\n",
              "      <td>1</td>\n",
              "      <td>8</td>\n",
              "      <td>8</td>\n",
              "      <td>23</td>\n",
              "      <td>22</td>\n",
              "    </tr>\n",
              "    <tr>\n",
              "      <th>2</th>\n",
              "      <td>75001</td>\n",
              "      <td>1-3-2018</td>\n",
              "      <td>1439</td>\n",
              "      <td>2</td>\n",
              "      <td>weekday</td>\n",
              "      <td>138</td>\n",
              "      <td>139</td>\n",
              "      <td>0</td>\n",
              "      <td>0</td>\n",
              "      <td>2</td>\n",
              "      <td>2</td>\n",
              "      <td>27</td>\n",
              "      <td>27</td>\n",
              "    </tr>\n",
              "    <tr>\n",
              "      <th>3</th>\n",
              "      <td>75001</td>\n",
              "      <td>1-4-2018</td>\n",
              "      <td>1320</td>\n",
              "      <td>3</td>\n",
              "      <td>weekday</td>\n",
              "      <td>104</td>\n",
              "      <td>104</td>\n",
              "      <td>2</td>\n",
              "      <td>2</td>\n",
              "      <td>9</td>\n",
              "      <td>8</td>\n",
              "      <td>25</td>\n",
              "      <td>21</td>\n",
              "    </tr>\n",
              "    <tr>\n",
              "      <th>4</th>\n",
              "      <td>75001</td>\n",
              "      <td>1-5-2018</td>\n",
              "      <td>1440</td>\n",
              "      <td>4</td>\n",
              "      <td>weekday</td>\n",
              "      <td>114</td>\n",
              "      <td>117</td>\n",
              "      <td>3</td>\n",
              "      <td>3</td>\n",
              "      <td>6</td>\n",
              "      <td>6</td>\n",
              "      <td>18</td>\n",
              "      <td>20</td>\n",
              "    </tr>\n",
              "  </tbody>\n",
              "</table>\n",
              "</div>"
            ],
            "text/plain": [
              "   POSTAL CODE      DATE  ...  SLOTS_FREED_SUM  SLOTS_TAKEN_SUM\n",
              "0        75001  1-1-2018  ...               22               20\n",
              "1        75001  1-2-2018  ...               23               22\n",
              "2        75001  1-3-2018  ...               27               27\n",
              "3        75001  1-4-2018  ...               25               21\n",
              "4        75001  1-5-2018  ...               18               20\n",
              "\n",
              "[5 rows x 13 columns]"
            ]
          },
          "metadata": {
            "tags": []
          },
          "execution_count": 415
        }
      ]
    },
    {
      "cell_type": "code",
      "metadata": {
        "id": "K7JyeqzEAs0p",
        "colab_type": "code",
        "colab": {
          "base_uri": "https://localhost:8080/",
          "height": 295
        },
        "outputId": "bc4f833b-9f50-48b8-c69b-334d164a6e59"
      },
      "source": [
        "#checking for outliers\n",
        "# our claim forcuses o one column hence we will check for outliers in this column only\n",
        "\n",
        "sns.boxplot(auto['BLUECARS_TAKEN_SUM'], orient='h')\n",
        "plt.title('BLUECARS_TAKEN BOXPLOT')\n",
        "\n",
        "plt.show()\n",
        "\n",
        "# we have outliers in our data this may have occured due to the large number of entiries into our dataset\n",
        "# hence the large number of bluecars taken will become conspicuous on the boxplot "
      ],
      "execution_count": 416,
      "outputs": [
        {
          "output_type": "display_data",
          "data": {
            "image/png": "[encoded data removed]",
            "text/plain": [
              "<Figure size 432x288 with 1 Axes>"
            ]
          },
          "metadata": {
            "tags": [],
            "needs_background": "light"
          }
        }
      ]
    },
    {
      "cell_type": "code",
      "metadata": {
        "id": "gDVc3AB8L6ss",
        "colab_type": "code",
        "colab": {
          "base_uri": "https://localhost:8080/",
          "height": 177
        },
        "outputId": "67f89926-f54b-4516-f8f1-cc522a9e6aa1"
      },
      "source": [
        "#drop other car types which are not bluecars since our study only focuses on bluecars\n",
        "\n",
        "auto.drop(['UTILIB_TAKEN_SUM','UTILIB_RETURNED_SUM','UTILIB_14_TAKEN_SUM','UTILIB_14_RETURNED_SUM'], axis= 1,inplace=True)\n",
        "auto.head(2)"
      ],
      "execution_count": 417,
      "outputs": [
        {
          "output_type": "execute_result",
          "data": {
            "text/html": [
              "<div>\n",
              "<style scoped>\n",
              "    .dataframe tbody tr th:only-of-type {\n",
              "        vertical-align: middle;\n",
              "    }\n",
              "\n",
              "    .dataframe tbody tr th {\n",
              "        vertical-align: top;\n",
              "    }\n",
              "\n",
              "    .dataframe thead th {\n",
              "        text-align: right;\n",
              "    }\n",
              "</style>\n",
              "<table border=\"1\" class=\"dataframe\">\n",
              "  <thead>\n",
              "    <tr style=\"text-align: right;\">\n",
              "      <th></th>\n",
              "      <th>POSTAL CODE</th>\n",
              "      <th>DATE</th>\n",
              "      <th>N_DAILY_DATA_POINTS</th>\n",
              "      <th>DAYOFWEEK</th>\n",
              "      <th>DAY_TYPE</th>\n",
              "      <th>BLUECARS_TAKEN_SUM</th>\n",
              "      <th>BLUECARS_RETURNED_SUM</th>\n",
              "      <th>SLOTS_FREED_SUM</th>\n",
              "      <th>SLOTS_TAKEN_SUM</th>\n",
              "    </tr>\n",
              "  </thead>\n",
              "  <tbody>\n",
              "    <tr>\n",
              "      <th>0</th>\n",
              "      <td>75001</td>\n",
              "      <td>1-1-2018</td>\n",
              "      <td>1440</td>\n",
              "      <td>0</td>\n",
              "      <td>weekday</td>\n",
              "      <td>110</td>\n",
              "      <td>103</td>\n",
              "      <td>22</td>\n",
              "      <td>20</td>\n",
              "    </tr>\n",
              "    <tr>\n",
              "      <th>1</th>\n",
              "      <td>75001</td>\n",
              "      <td>1-2-2018</td>\n",
              "      <td>1438</td>\n",
              "      <td>1</td>\n",
              "      <td>weekday</td>\n",
              "      <td>98</td>\n",
              "      <td>94</td>\n",
              "      <td>23</td>\n",
              "      <td>22</td>\n",
              "    </tr>\n",
              "  </tbody>\n",
              "</table>\n",
              "</div>"
            ],
            "text/plain": [
              "   POSTAL CODE      DATE  ...  SLOTS_FREED_SUM  SLOTS_TAKEN_SUM\n",
              "0        75001  1-1-2018  ...               22               20\n",
              "1        75001  1-2-2018  ...               23               22\n",
              "\n",
              "[2 rows x 9 columns]"
            ]
          },
          "metadata": {
            "tags": []
          },
          "execution_count": 417
        }
      ]
    },
    {
      "cell_type": "code",
      "metadata": {
        "id": "co9jv-T1ir0U",
        "colab_type": "code",
        "colab": {}
      },
      "source": [
        "#filteing our data to get our disied data\n",
        "#get only weekdays\n",
        "df = auto[auto['DAY_TYPE']=='weekday']\n",
        "\n",
        "# Get only cars operational in paris\n",
        "# The postal code for Paris ranges from 75000 to 76000\n",
        "#Hence we will filter this codes\n",
        "\n",
        "df = df[df['POSTAL CODE']<76000]\n",
        "\n"
      ],
      "execution_count": 0,
      "outputs": []
    },
    {
      "cell_type": "code",
      "metadata": {
        "id": "XVyzLgfGkOPr",
        "colab_type": "code",
        "colab": {
          "base_uri": "https://localhost:8080/",
          "height": 590
        },
        "outputId": "058ce356-a74f-4349-e180-93b93904c0ab"
      },
      "source": [
        "# We will then group our data into days\n",
        "# we first convert POSTAL CODE column to sting\n",
        "df['POSTAL CODE'].astype(str)\n",
        "\n",
        "#we then group our data into days\n",
        "df = pd.pivot_table(df, index= ['DATE'], aggfunc='sum')\n",
        "\n",
        "df.reset_index(level=(0), inplace=True)\n",
        "df"
      ],
      "execution_count": 419,
      "outputs": [
        {
          "output_type": "execute_result",
          "data": {
            "text/html": [
              "<div>\n",
              "<style scoped>\n",
              "    .dataframe tbody tr th:only-of-type {\n",
              "        vertical-align: middle;\n",
              "    }\n",
              "\n",
              "    .dataframe tbody tr th {\n",
              "        vertical-align: top;\n",
              "    }\n",
              "\n",
              "    .dataframe thead th {\n",
              "        text-align: right;\n",
              "    }\n",
              "</style>\n",
              "<table border=\"1\" class=\"dataframe\">\n",
              "  <thead>\n",
              "    <tr style=\"text-align: right;\">\n",
              "      <th></th>\n",
              "      <th>DATE</th>\n",
              "      <th>BLUECARS_RETURNED_SUM</th>\n",
              "      <th>BLUECARS_TAKEN_SUM</th>\n",
              "      <th>DAYOFWEEK</th>\n",
              "      <th>N_DAILY_DATA_POINTS</th>\n",
              "      <th>POSTAL CODE</th>\n",
              "      <th>SLOTS_FREED_SUM</th>\n",
              "      <th>SLOTS_TAKEN_SUM</th>\n",
              "    </tr>\n",
              "  </thead>\n",
              "  <tbody>\n",
              "    <tr>\n",
              "      <th>0</th>\n",
              "      <td>1-1-2018</td>\n",
              "      <td>8144</td>\n",
              "      <td>8098</td>\n",
              "      <td>0</td>\n",
              "      <td>31680</td>\n",
              "      <td>1650438</td>\n",
              "      <td>1906</td>\n",
              "      <td>1897</td>\n",
              "    </tr>\n",
              "    <tr>\n",
              "      <th>1</th>\n",
              "      <td>1-10-2018</td>\n",
              "      <td>7565</td>\n",
              "      <td>7695</td>\n",
              "      <td>44</td>\n",
              "      <td>31680</td>\n",
              "      <td>1650438</td>\n",
              "      <td>1883</td>\n",
              "      <td>1855</td>\n",
              "    </tr>\n",
              "    <tr>\n",
              "      <th>2</th>\n",
              "      <td>1-11-2018</td>\n",
              "      <td>7807</td>\n",
              "      <td>7738</td>\n",
              "      <td>66</td>\n",
              "      <td>31680</td>\n",
              "      <td>1650438</td>\n",
              "      <td>1917</td>\n",
              "      <td>1928</td>\n",
              "    </tr>\n",
              "    <tr>\n",
              "      <th>3</th>\n",
              "      <td>1-12-2018</td>\n",
              "      <td>8609</td>\n",
              "      <td>8668</td>\n",
              "      <td>88</td>\n",
              "      <td>31658</td>\n",
              "      <td>1650438</td>\n",
              "      <td>2104</td>\n",
              "      <td>2100</td>\n",
              "    </tr>\n",
              "    <tr>\n",
              "      <th>4</th>\n",
              "      <td>1-15-2018</td>\n",
              "      <td>7451</td>\n",
              "      <td>7443</td>\n",
              "      <td>0</td>\n",
              "      <td>31680</td>\n",
              "      <td>1650438</td>\n",
              "      <td>1820</td>\n",
              "      <td>1790</td>\n",
              "    </tr>\n",
              "    <tr>\n",
              "      <th>...</th>\n",
              "      <td>...</td>\n",
              "      <td>...</td>\n",
              "      <td>...</td>\n",
              "      <td>...</td>\n",
              "      <td>...</td>\n",
              "      <td>...</td>\n",
              "      <td>...</td>\n",
              "      <td>...</td>\n",
              "    </tr>\n",
              "    <tr>\n",
              "      <th>107</th>\n",
              "      <td>6-4-2018</td>\n",
              "      <td>7816</td>\n",
              "      <td>7819</td>\n",
              "      <td>0</td>\n",
              "      <td>31680</td>\n",
              "      <td>1650438</td>\n",
              "      <td>2017</td>\n",
              "      <td>2012</td>\n",
              "    </tr>\n",
              "    <tr>\n",
              "      <th>108</th>\n",
              "      <td>6-5-2018</td>\n",
              "      <td>8456</td>\n",
              "      <td>8651</td>\n",
              "      <td>22</td>\n",
              "      <td>31658</td>\n",
              "      <td>1650438</td>\n",
              "      <td>2266</td>\n",
              "      <td>2230</td>\n",
              "    </tr>\n",
              "    <tr>\n",
              "      <th>109</th>\n",
              "      <td>6-6-2018</td>\n",
              "      <td>8423</td>\n",
              "      <td>8506</td>\n",
              "      <td>44</td>\n",
              "      <td>31680</td>\n",
              "      <td>1650438</td>\n",
              "      <td>2229</td>\n",
              "      <td>2253</td>\n",
              "    </tr>\n",
              "    <tr>\n",
              "      <th>110</th>\n",
              "      <td>6-7-2018</td>\n",
              "      <td>8303</td>\n",
              "      <td>8345</td>\n",
              "      <td>66</td>\n",
              "      <td>31658</td>\n",
              "      <td>1650438</td>\n",
              "      <td>2254</td>\n",
              "      <td>2229</td>\n",
              "    </tr>\n",
              "    <tr>\n",
              "      <th>111</th>\n",
              "      <td>6-8-2018</td>\n",
              "      <td>9132</td>\n",
              "      <td>9155</td>\n",
              "      <td>88</td>\n",
              "      <td>31636</td>\n",
              "      <td>1650438</td>\n",
              "      <td>2516</td>\n",
              "      <td>2533</td>\n",
              "    </tr>\n",
              "  </tbody>\n",
              "</table>\n",
              "<p>112 rows × 8 columns</p>\n",
              "</div>"
            ],
            "text/plain": [
              "          DATE  BLUECARS_RETURNED_SUM  ...  SLOTS_FREED_SUM  SLOTS_TAKEN_SUM\n",
              "0     1-1-2018                   8144  ...             1906             1897\n",
              "1    1-10-2018                   7565  ...             1883             1855\n",
              "2    1-11-2018                   7807  ...             1917             1928\n",
              "3    1-12-2018                   8609  ...             2104             2100\n",
              "4    1-15-2018                   7451  ...             1820             1790\n",
              "..         ...                    ...  ...              ...              ...\n",
              "107   6-4-2018                   7816  ...             2017             2012\n",
              "108   6-5-2018                   8456  ...             2266             2230\n",
              "109   6-6-2018                   8423  ...             2229             2253\n",
              "110   6-7-2018                   8303  ...             2254             2229\n",
              "111   6-8-2018                   9132  ...             2516             2533\n",
              "\n",
              "[112 rows x 8 columns]"
            ]
          },
          "metadata": {
            "tags": []
          },
          "execution_count": 419
        }
      ]
    },
    {
      "cell_type": "code",
      "metadata": {
        "id": "28Qe3ecNnYsT",
        "colab_type": "code",
        "colab": {}
      },
      "source": [
        "#Drop columns we do not need for our study\n",
        "df.drop(['DAYOFWEEK', 'N_DAILY_DATA_POINTS','POSTAL CODE'], axis = 1, inplace = True)"
      ],
      "execution_count": 0,
      "outputs": []
    },
    {
      "cell_type": "code",
      "metadata": {
        "id": "EcZQUCswylpb",
        "colab_type": "code",
        "colab": {
          "base_uri": "https://localhost:8080/",
          "height": 297
        },
        "outputId": "efb072ba-35ee-45c7-9e0a-1504c9f30e21"
      },
      "source": [
        "#CHECK FOR OUTLIERS\n",
        "sns.boxplot(df['BLUECARS_TAKEN_SUM'])"
      ],
      "execution_count": 421,
      "outputs": [
        {
          "output_type": "execute_result",
          "data": {
            "text/plain": [
              "<matplotlib.axes._subplots.AxesSubplot at 0x7f744ad16da0>"
            ]
          },
          "metadata": {
            "tags": []
          },
          "execution_count": 421
        },
        {
          "output_type": "display_data",
          "data": {
            "image/png": "[encoded data removed]",
            "text/plain": [
              "<Figure size 432x288 with 1 Axes>"
            ]
          },
          "metadata": {
            "tags": [],
            "needs_background": "light"
          }
        }
      ]
    },
    {
      "cell_type": "code",
      "metadata": {
        "id": "kQnpKWW7y0Gg",
        "colab_type": "code",
        "colab": {}
      },
      "source": [
        "#Remove outliers\n",
        "\n",
        "df = df[df['BLUECARS_TAKEN_SUM']>6000]"
      ],
      "execution_count": 0,
      "outputs": []
    },
    {
      "cell_type": "markdown",
      "metadata": {
        "id": "KzKfPwitLbp2",
        "colab_type": "text"
      },
      "source": [
        "#6.EXPLANATORY ANAYSIS"
      ]
    },
    {
      "cell_type": "markdown",
      "metadata": {
        "id": "nqEcvjJOykFA",
        "colab_type": "text"
      },
      "source": [
        ""
      ]
    },
    {
      "cell_type": "markdown",
      "metadata": {
        "id": "tU_jz4-0Ldxz",
        "colab_type": "text"
      },
      "source": [
        "##UNIVARIATE ANALYSIS"
      ]
    },
    {
      "cell_type": "code",
      "metadata": {
        "id": "YvMyjxFapR47",
        "colab_type": "code",
        "colab": {}
      },
      "source": [
        "# group with postal codes\n",
        "postal = pd.pivot_table(auto, index=['POSTAL CODE'], aggfunc='sum')\n",
        "postal.reset_index(level = 0, inplace = True)"
      ],
      "execution_count": 0,
      "outputs": []
    },
    {
      "cell_type": "code",
      "metadata": {
        "id": "u3Gp3KPzOTCD",
        "colab_type": "code",
        "colab": {
          "base_uri": "https://localhost:8080/",
          "height": 287
        },
        "outputId": "d09d5890-8cf9-41e7-cdc7-74e2dd2ea59e"
      },
      "source": [
        "# measures of central tendancy\n",
        "#mode\n",
        "# print(postal[postal['BLUECARS_TAKEN_SUM']==139925])\n",
        "# print(postal[postal['BLUECARS_TAKEN_SUM']==305])\n",
        "\n",
        "postal.describe()\n",
        "\n",
        "#The code above gives a a grouped summary of our dataset\n",
        "#postal code 75015 has the highest number of bluecars taken\n",
        "#postal code 75015 has the highest number of bluecars taken\n",
        "#postal code 93390 has the lowest number of bluecars taken\n",
        "#mean number of blue cars taken is 19476\n",
        "#median is 7038"
      ],
      "execution_count": 424,
      "outputs": [
        {
          "output_type": "execute_result",
          "data": {
            "text/html": [
              "<div>\n",
              "<style scoped>\n",
              "    .dataframe tbody tr th:only-of-type {\n",
              "        vertical-align: middle;\n",
              "    }\n",
              "\n",
              "    .dataframe tbody tr th {\n",
              "        vertical-align: top;\n",
              "    }\n",
              "\n",
              "    .dataframe thead th {\n",
              "        text-align: right;\n",
              "    }\n",
              "</style>\n",
              "<table border=\"1\" class=\"dataframe\">\n",
              "  <thead>\n",
              "    <tr style=\"text-align: right;\">\n",
              "      <th></th>\n",
              "      <th>POSTAL CODE</th>\n",
              "      <th>BLUECARS_RETURNED_SUM</th>\n",
              "      <th>BLUECARS_TAKEN_SUM</th>\n",
              "      <th>DAYOFWEEK</th>\n",
              "      <th>N_DAILY_DATA_POINTS</th>\n",
              "      <th>SLOTS_FREED_SUM</th>\n",
              "      <th>SLOTS_TAKEN_SUM</th>\n",
              "    </tr>\n",
              "  </thead>\n",
              "  <tbody>\n",
              "    <tr>\n",
              "      <th>count</th>\n",
              "      <td>104.000000</td>\n",
              "      <td>104.000000</td>\n",
              "      <td>104.000000</td>\n",
              "      <td>104.000000</td>\n",
              "      <td>104.000000</td>\n",
              "      <td>104.000000</td>\n",
              "      <td>104.000000</td>\n",
              "    </tr>\n",
              "    <tr>\n",
              "      <th>mean</th>\n",
              "      <td>88828.153846</td>\n",
              "      <td>19474.096154</td>\n",
              "      <td>19476.298077</td>\n",
              "      <td>459.288462</td>\n",
              "      <td>221374.548077</td>\n",
              "      <td>3499.884615</td>\n",
              "      <td>3499.923077</td>\n",
              "    </tr>\n",
              "    <tr>\n",
              "      <th>std</th>\n",
              "      <td>7662.918108</td>\n",
              "      <td>28090.530203</td>\n",
              "      <td>28093.724871</td>\n",
              "      <td>22.157281</td>\n",
              "      <td>10996.267530</td>\n",
              "      <td>7895.052470</td>\n",
              "      <td>7895.622358</td>\n",
              "    </tr>\n",
              "    <tr>\n",
              "      <th>min</th>\n",
              "      <td>75001.000000</td>\n",
              "      <td>302.000000</td>\n",
              "      <td>305.000000</td>\n",
              "      <td>254.000000</td>\n",
              "      <td>120431.000000</td>\n",
              "      <td>0.000000</td>\n",
              "      <td>0.000000</td>\n",
              "    </tr>\n",
              "    <tr>\n",
              "      <th>25%</th>\n",
              "      <td>91360.000000</td>\n",
              "      <td>3054.500000</td>\n",
              "      <td>3070.500000</td>\n",
              "      <td>463.000000</td>\n",
              "      <td>223281.000000</td>\n",
              "      <td>0.000000</td>\n",
              "      <td>0.000000</td>\n",
              "    </tr>\n",
              "    <tr>\n",
              "      <th>50%</th>\n",
              "      <td>92345.000000</td>\n",
              "      <td>7028.500000</td>\n",
              "      <td>7038.500000</td>\n",
              "      <td>463.000000</td>\n",
              "      <td>223281.000000</td>\n",
              "      <td>0.000000</td>\n",
              "      <td>0.000000</td>\n",
              "    </tr>\n",
              "    <tr>\n",
              "      <th>75%</th>\n",
              "      <td>93392.500000</td>\n",
              "      <td>21052.500000</td>\n",
              "      <td>21068.250000</td>\n",
              "      <td>463.000000</td>\n",
              "      <td>223281.000000</td>\n",
              "      <td>671.250000</td>\n",
              "      <td>672.500000</td>\n",
              "    </tr>\n",
              "    <tr>\n",
              "      <th>max</th>\n",
              "      <td>95880.000000</td>\n",
              "      <td>139943.000000</td>\n",
              "      <td>139925.000000</td>\n",
              "      <td>463.000000</td>\n",
              "      <td>223281.000000</td>\n",
              "      <td>37271.000000</td>\n",
              "      <td>37298.000000</td>\n",
              "    </tr>\n",
              "  </tbody>\n",
              "</table>\n",
              "</div>"
            ],
            "text/plain": [
              "        POSTAL CODE  BLUECARS_RETURNED_SUM  ...  SLOTS_FREED_SUM  SLOTS_TAKEN_SUM\n",
              "count    104.000000             104.000000  ...       104.000000       104.000000\n",
              "mean   88828.153846           19474.096154  ...      3499.884615      3499.923077\n",
              "std     7662.918108           28090.530203  ...      7895.052470      7895.622358\n",
              "min    75001.000000             302.000000  ...         0.000000         0.000000\n",
              "25%    91360.000000            3054.500000  ...         0.000000         0.000000\n",
              "50%    92345.000000            7028.500000  ...         0.000000         0.000000\n",
              "75%    93392.500000           21052.500000  ...       671.250000       672.500000\n",
              "max    95880.000000          139943.000000  ...     37271.000000     37298.000000\n",
              "\n",
              "[8 rows x 7 columns]"
            ]
          },
          "metadata": {
            "tags": []
          },
          "execution_count": 424
        }
      ]
    },
    {
      "cell_type": "code",
      "metadata": {
        "id": "3JXDIYOmU2J1",
        "colab_type": "code",
        "colab": {
          "base_uri": "https://localhost:8080/",
          "height": 52
        },
        "outputId": "36c16a3d-e0b9-44f4-a5df-dc25d297ef19"
      },
      "source": [
        "# MODE\n",
        "\n",
        "auto['DAYOFWEEK'].mode()\n",
        "# MONDAY IS THE DAY OF THE WEEK WITH HIGHEST MODE"
      ],
      "execution_count": 425,
      "outputs": [
        {
          "output_type": "execute_result",
          "data": {
            "text/plain": [
              "0    0\n",
              "dtype: int64"
            ]
          },
          "metadata": {
            "tags": []
          },
          "execution_count": 425
        }
      ]
    },
    {
      "cell_type": "code",
      "metadata": {
        "id": "WMfMzCxpqcMA",
        "colab_type": "code",
        "colab": {
          "base_uri": "https://localhost:8080/",
          "height": 287
        },
        "outputId": "b204c4c1-7978-491c-fbcb-6759f1b0194c"
      },
      "source": [
        "#Descibe our data on days\n",
        "df.describe()"
      ],
      "execution_count": 426,
      "outputs": [
        {
          "output_type": "execute_result",
          "data": {
            "text/html": [
              "<div>\n",
              "<style scoped>\n",
              "    .dataframe tbody tr th:only-of-type {\n",
              "        vertical-align: middle;\n",
              "    }\n",
              "\n",
              "    .dataframe tbody tr th {\n",
              "        vertical-align: top;\n",
              "    }\n",
              "\n",
              "    .dataframe thead th {\n",
              "        text-align: right;\n",
              "    }\n",
              "</style>\n",
              "<table border=\"1\" class=\"dataframe\">\n",
              "  <thead>\n",
              "    <tr style=\"text-align: right;\">\n",
              "      <th></th>\n",
              "      <th>BLUECARS_RETURNED_SUM</th>\n",
              "      <th>BLUECARS_TAKEN_SUM</th>\n",
              "      <th>SLOTS_FREED_SUM</th>\n",
              "      <th>SLOTS_TAKEN_SUM</th>\n",
              "    </tr>\n",
              "  </thead>\n",
              "  <tbody>\n",
              "    <tr>\n",
              "      <th>count</th>\n",
              "      <td>110.000000</td>\n",
              "      <td>110.000000</td>\n",
              "      <td>110.000000</td>\n",
              "      <td>110.000000</td>\n",
              "    </tr>\n",
              "    <tr>\n",
              "      <th>mean</th>\n",
              "      <td>7912.554545</td>\n",
              "      <td>7963.327273</td>\n",
              "      <td>2109.627273</td>\n",
              "      <td>2106.736364</td>\n",
              "    </tr>\n",
              "    <tr>\n",
              "      <th>std</th>\n",
              "      <td>633.636636</td>\n",
              "      <td>626.371846</td>\n",
              "      <td>214.957084</td>\n",
              "      <td>217.359537</td>\n",
              "    </tr>\n",
              "    <tr>\n",
              "      <th>min</th>\n",
              "      <td>6374.000000</td>\n",
              "      <td>6314.000000</td>\n",
              "      <td>1582.000000</td>\n",
              "      <td>1601.000000</td>\n",
              "    </tr>\n",
              "    <tr>\n",
              "      <th>25%</th>\n",
              "      <td>7455.750000</td>\n",
              "      <td>7561.000000</td>\n",
              "      <td>1968.250000</td>\n",
              "      <td>1960.000000</td>\n",
              "    </tr>\n",
              "    <tr>\n",
              "      <th>50%</th>\n",
              "      <td>7960.500000</td>\n",
              "      <td>8031.000000</td>\n",
              "      <td>2112.500000</td>\n",
              "      <td>2106.500000</td>\n",
              "    </tr>\n",
              "    <tr>\n",
              "      <th>75%</th>\n",
              "      <td>8389.000000</td>\n",
              "      <td>8399.000000</td>\n",
              "      <td>2254.750000</td>\n",
              "      <td>2252.000000</td>\n",
              "    </tr>\n",
              "    <tr>\n",
              "      <th>max</th>\n",
              "      <td>9255.000000</td>\n",
              "      <td>9288.000000</td>\n",
              "      <td>2597.000000</td>\n",
              "      <td>2614.000000</td>\n",
              "    </tr>\n",
              "  </tbody>\n",
              "</table>\n",
              "</div>"
            ],
            "text/plain": [
              "       BLUECARS_RETURNED_SUM  ...  SLOTS_TAKEN_SUM\n",
              "count             110.000000  ...       110.000000\n",
              "mean             7912.554545  ...      2106.736364\n",
              "std               633.636636  ...       217.359537\n",
              "min              6374.000000  ...      1601.000000\n",
              "25%              7455.750000  ...      1960.000000\n",
              "50%              7960.500000  ...      2106.500000\n",
              "75%              8389.000000  ...      2252.000000\n",
              "max              9255.000000  ...      2614.000000\n",
              "\n",
              "[8 rows x 4 columns]"
            ]
          },
          "metadata": {
            "tags": []
          },
          "execution_count": 426
        }
      ]
    },
    {
      "cell_type": "markdown",
      "metadata": {
        "id": "7MAAOK_Tt5eK",
        "colab_type": "text"
      },
      "source": [
        ""
      ]
    },
    {
      "cell_type": "code",
      "metadata": {
        "id": "pg8OfLiUijgM",
        "colab_type": "code",
        "colab": {
          "base_uri": "https://localhost:8080/",
          "height": 297
        },
        "outputId": "7ef2d6ca-d251-460e-d0aa-7a0f78b77c23"
      },
      "source": [
        "#histogram showing distribution of our data\n",
        "\n",
        "sns.distplot(df['BLUECARS_TAKEN_SUM'])"
      ],
      "execution_count": 427,
      "outputs": [
        {
          "output_type": "execute_result",
          "data": {
            "text/plain": [
              "<matplotlib.axes._subplots.AxesSubplot at 0x7f744a1cdd68>"
            ]
          },
          "metadata": {
            "tags": []
          },
          "execution_count": 427
        },
        {
          "output_type": "display_data",
          "data": {
            "image/png": "[encoded data removed]",
            "text/plain": [
              "<Figure size 432x288 with 1 Axes>"
            ]
          },
          "metadata": {
            "tags": [],
            "needs_background": "light"
          }
        }
      ]
    },
    {
      "cell_type": "code",
      "metadata": {
        "id": "7Ghn61Rr-iSC",
        "colab_type": "code",
        "colab": {
          "base_uri": "https://localhost:8080/",
          "height": 52
        },
        "outputId": "2eff08c0-7e19-4a47-d14e-bef230a59ff4"
      },
      "source": [
        "print(df['BLUECARS_TAKEN_SUM'].skew())\n",
        "#BLUECARS TAKEN IS WEEKLY NEGATIVELY SKEWED\n",
        "\n",
        "print(df['BLUECARS_TAKEN_SUM'].kurt())\n",
        "#kurtosis is almost zero hence depicting characteristics of normal data"
      ],
      "execution_count": 428,
      "outputs": [
        {
          "output_type": "stream",
          "text": [
            "-0.25415142066869745\n",
            "-0.1641917143465612\n"
          ],
          "name": "stdout"
        }
      ]
    },
    {
      "cell_type": "markdown",
      "metadata": {
        "id": "Tu1lhtJVzcec",
        "colab_type": "text"
      },
      "source": [
        "##BIVARIATE ANAYSIS\n"
      ]
    },
    {
      "cell_type": "code",
      "metadata": {
        "id": "EmP47Nc5zjTx",
        "colab_type": "code",
        "colab": {
          "base_uri": "https://localhost:8080/",
          "height": 852
        },
        "outputId": "eca78e6a-b8d1-4b68-d3f9-6df7135c3b38"
      },
      "source": [
        "# Analysis of our numeric data\n",
        "#import research py\n",
        "!pip install researchpy\n",
        "import researchpy as rp\n",
        "print('BLUE CAR TAKEN PER POSTAL CODE')\n",
        "print(round(rp.summary_cont(auto.groupby(['POSTAL CODE'])['BLUECARS_TAKEN_SUM'])))\n",
        "print('\\n')\n",
        "print('BLUECAR_TAKEN PER DAY')\n",
        "print(round(rp.summary_cont(df.groupby(['DATE'])['BLUECARS_TAKEN_SUM'])))"
      ],
      "execution_count": 429,
      "outputs": [
        {
          "output_type": "stream",
          "text": [
            "Requirement already satisfied: researchpy in /usr/local/lib/python3.6/dist-packages (0.1.9)\n",
            "Requirement already satisfied: statsmodels in /usr/local/lib/python3.6/dist-packages (from researchpy) (0.10.2)\n",
            "Requirement already satisfied: numpy in /usr/local/lib/python3.6/dist-packages (from researchpy) (1.18.4)\n",
            "Requirement already satisfied: scipy in /usr/local/lib/python3.6/dist-packages (from researchpy) (1.4.1)\n",
            "Requirement already satisfied: pandas in /usr/local/lib/python3.6/dist-packages (from researchpy) (1.0.3)\n",
            "Requirement already satisfied: patsy>=0.4.0 in /usr/local/lib/python3.6/dist-packages (from statsmodels->researchpy) (0.5.1)\n",
            "Requirement already satisfied: pytz>=2017.2 in /usr/local/lib/python3.6/dist-packages (from pandas->researchpy) (2018.9)\n",
            "Requirement already satisfied: python-dateutil>=2.6.1 in /usr/local/lib/python3.6/dist-packages (from pandas->researchpy) (2.8.1)\n",
            "Requirement already satisfied: six in /usr/local/lib/python3.6/dist-packages (from patsy>=0.4.0->statsmodels->researchpy) (1.12.0)\n",
            "BLUE CAR TAKEN PER POSTAL CODE\n",
            "\n",
            "\n",
            "               N   Mean    SD   SE  95% Conf.  Interval\n",
            "POSTAL CODE                                            \n",
            "75001        156  135.0  39.0  3.0      129.0     141.0\n",
            "75002        156  174.0  41.0  3.0      167.0     180.0\n",
            "75003        156  238.0  61.0  5.0      229.0     248.0\n",
            "75004        156  202.0  62.0  5.0      192.0     211.0\n",
            "75005        156  306.0  63.0  5.0      296.0     316.0\n",
            "...          ...    ...   ...  ...        ...       ...\n",
            "94700        156   34.0  12.0  1.0       32.0      36.0\n",
            "94800        156   80.0  23.0  2.0       76.0      84.0\n",
            "95100        156   24.0  16.0  1.0       21.0      27.0\n",
            "95870        156   15.0   7.0  1.0       14.0      16.0\n",
            "95880        156   16.0  10.0  1.0       14.0      18.0\n",
            "\n",
            "[104 rows x 6 columns]\n",
            "\n",
            "\n",
            "BLUECAR_TAKEN PER DAY\n",
            "\n",
            "\n",
            "           N  Mean  SD  SE  95% Conf.  Interval\n",
            "DATE                                           \n",
            "1-1-2018   1  8098 NaN NaN        NaN       NaN\n",
            "1-10-2018  1  7695 NaN NaN        NaN       NaN\n",
            "1-11-2018  1  7738 NaN NaN        NaN       NaN\n",
            "1-12-2018  1  8668 NaN NaN        NaN       NaN\n",
            "1-15-2018  1  7443 NaN NaN        NaN       NaN\n",
            "...       ..   ...  ..  ..        ...       ...\n",
            "6-4-2018   1  7819 NaN NaN        NaN       NaN\n",
            "6-5-2018   1  8651 NaN NaN        NaN       NaN\n",
            "6-6-2018   1  8506 NaN NaN        NaN       NaN\n",
            "6-7-2018   1  8345 NaN NaN        NaN       NaN\n",
            "6-8-2018   1  9155 NaN NaN        NaN       NaN\n",
            "\n",
            "[110 rows x 6 columns]\n"
          ],
          "name": "stdout"
        }
      ]
    },
    {
      "cell_type": "code",
      "metadata": {
        "id": "bPNF6h1v0yQl",
        "colab_type": "code",
        "colab": {
          "base_uri": "https://localhost:8080/",
          "height": 546
        },
        "outputId": "6efc9e60-4b2d-4f1e-e13b-b347eb26a307"
      },
      "source": [
        "#VISUALIZING CORRELATION BETWEEEN DIFFRENT FIELDS\n",
        "f , ax = plt.subplots(figsize = (10,6))\n",
        "corr = df.corr()\n",
        "cor = sns.heatmap(corr, annot = True, ax =ax , cmap = \"coolwarm\", fmt = '.2f',linewidths= .05)\n",
        "f.subplots_adjust(top =0.93)\n",
        "t = f.suptitle('BLUECARS VARIBALES CORRELATION')"
      ],
      "execution_count": 430,
      "outputs": [
        {
          "output_type": "display_data",
          "data": {
            "image/png": "[encoded data removed]",
            "text/plain": [
              "<Figure size 720x432 with 2 Axes>"
            ]
          },
          "metadata": {
            "tags": [],
            "needs_background": "light"
          }
        }
      ]
    },
    {
      "cell_type": "code",
      "metadata": {
        "id": "TIZjdkqY-RVs",
        "colab_type": "code",
        "colab": {
          "base_uri": "https://localhost:8080/",
          "height": 740
        },
        "outputId": "57429826-538b-4b07-cf8e-94d6d91ece28"
      },
      "source": [
        "# pair plot\n",
        "sns.pairplot(df)\n",
        "plt.show()\n",
        "# ALMOST ALL OUR FIELDS ARE POSITIVELY STRONGLY CORRELATED"
      ],
      "execution_count": 431,
      "outputs": [
        {
          "output_type": "display_data",
          "data": {
            "image/png": "[encoded data removed]",
            "text/plain": [
              "<Figure size 720x720 with 20 Axes>"
            ]
          },
          "metadata": {
            "tags": [],
            "needs_background": "light"
          }
        }
      ]
    },
    {
      "cell_type": "markdown",
      "metadata": {
        "id": "ypgB9hJ5ALoy",
        "colab_type": "text"
      },
      "source": [
        "#7.IMPLEMENTING THE SOLUTION\n"
      ]
    },
    {
      "cell_type": "markdown",
      "metadata": {
        "id": "M_hpTaFDAS7f",
        "colab_type": "text"
      },
      "source": [
        "##Check for normality"
      ]
    },
    {
      "cell_type": "code",
      "metadata": {
        "id": "dzZEunB5AZgh",
        "colab_type": "code",
        "colab": {
          "base_uri": "https://localhost:8080/",
          "height": 52
        },
        "outputId": "4edbbcb0-f7c9-421b-e8ad-78a423979a15"
      },
      "source": [
        "#we will use  Shapiro Wilk test to check if our data is normal\n",
        "\n",
        "from scipy.stats import shapiro\n",
        "\n",
        "stat,p = shapiro(df['BLUECARS_TAKEN_SUM'])\n",
        "print('statistic = %.3f, p= %.3f' % (stat,p))\n",
        "\n",
        "alpha= 0.05\n",
        "if p>0.005:\n",
        "  print('Sample looks Gaussian')\n",
        "else:\n",
        "  print('sample does not look Gaussian')\n",
        "\n",
        "# our data follows a normal distribution"
      ],
      "execution_count": 432,
      "outputs": [
        {
          "output_type": "stream",
          "text": [
            "statistic = 0.989, p= 0.486\n",
            "Sample looks Gaussian\n"
          ],
          "name": "stdout"
        }
      ]
    },
    {
      "cell_type": "markdown",
      "metadata": {
        "id": "oT067AsdB-q5",
        "colab_type": "text"
      },
      "source": [
        "## random sampling"
      ]
    },
    {
      "cell_type": "code",
      "metadata": {
        "id": "TEDmPxcWCDL6",
        "colab_type": "code",
        "colab": {
          "base_uri": "https://localhost:8080/",
          "height": 406
        },
        "outputId": "c96790fc-b878-4ded-f534-81e9eeef85b7"
      },
      "source": [
        "# We will use simple random sampling to select the 25 weekdays days by which we will collect our data\n",
        "# We will collect data from our database \n",
        "\n",
        "import random \n",
        "sample = df.sample(n=86)\n",
        "sample\n",
        "# our smple size has been determied by sampling formular"
      ],
      "execution_count": 433,
      "outputs": [
        {
          "output_type": "execute_result",
          "data": {
            "text/html": [
              "<div>\n",
              "<style scoped>\n",
              "    .dataframe tbody tr th:only-of-type {\n",
              "        vertical-align: middle;\n",
              "    }\n",
              "\n",
              "    .dataframe tbody tr th {\n",
              "        vertical-align: top;\n",
              "    }\n",
              "\n",
              "    .dataframe thead th {\n",
              "        text-align: right;\n",
              "    }\n",
              "</style>\n",
              "<table border=\"1\" class=\"dataframe\">\n",
              "  <thead>\n",
              "    <tr style=\"text-align: right;\">\n",
              "      <th></th>\n",
              "      <th>DATE</th>\n",
              "      <th>BLUECARS_RETURNED_SUM</th>\n",
              "      <th>BLUECARS_TAKEN_SUM</th>\n",
              "      <th>SLOTS_FREED_SUM</th>\n",
              "      <th>SLOTS_TAKEN_SUM</th>\n",
              "    </tr>\n",
              "  </thead>\n",
              "  <tbody>\n",
              "    <tr>\n",
              "      <th>58</th>\n",
              "      <td>3-5-2018</td>\n",
              "      <td>7266</td>\n",
              "      <td>7279</td>\n",
              "      <td>1889</td>\n",
              "      <td>1883</td>\n",
              "    </tr>\n",
              "    <tr>\n",
              "      <th>39</th>\n",
              "      <td>2-8-2018</td>\n",
              "      <td>7120</td>\n",
              "      <td>7122</td>\n",
              "      <td>2078</td>\n",
              "      <td>2064</td>\n",
              "    </tr>\n",
              "    <tr>\n",
              "      <th>74</th>\n",
              "      <td>4-24-2018</td>\n",
              "      <td>6971</td>\n",
              "      <td>7055</td>\n",
              "      <td>1787</td>\n",
              "      <td>1775</td>\n",
              "    </tr>\n",
              "    <tr>\n",
              "      <th>43</th>\n",
              "      <td>3-13-2018</td>\n",
              "      <td>7727</td>\n",
              "      <td>7836</td>\n",
              "      <td>1957</td>\n",
              "      <td>1941</td>\n",
              "    </tr>\n",
              "    <tr>\n",
              "      <th>57</th>\n",
              "      <td>3-30-2018</td>\n",
              "      <td>8561</td>\n",
              "      <td>8597</td>\n",
              "      <td>2193</td>\n",
              "      <td>2205</td>\n",
              "    </tr>\n",
              "    <tr>\n",
              "      <th>...</th>\n",
              "      <td>...</td>\n",
              "      <td>...</td>\n",
              "      <td>...</td>\n",
              "      <td>...</td>\n",
              "      <td>...</td>\n",
              "    </tr>\n",
              "    <tr>\n",
              "      <th>59</th>\n",
              "      <td>3-6-2018</td>\n",
              "      <td>7954</td>\n",
              "      <td>8134</td>\n",
              "      <td>2166</td>\n",
              "      <td>2143</td>\n",
              "    </tr>\n",
              "    <tr>\n",
              "      <th>109</th>\n",
              "      <td>6-6-2018</td>\n",
              "      <td>8423</td>\n",
              "      <td>8506</td>\n",
              "      <td>2229</td>\n",
              "      <td>2253</td>\n",
              "    </tr>\n",
              "    <tr>\n",
              "      <th>73</th>\n",
              "      <td>4-23-2018</td>\n",
              "      <td>6374</td>\n",
              "      <td>6314</td>\n",
              "      <td>1583</td>\n",
              "      <td>1611</td>\n",
              "    </tr>\n",
              "    <tr>\n",
              "      <th>18</th>\n",
              "      <td>1-31-2018</td>\n",
              "      <td>8136</td>\n",
              "      <td>8160</td>\n",
              "      <td>2170</td>\n",
              "      <td>2169</td>\n",
              "    </tr>\n",
              "    <tr>\n",
              "      <th>101</th>\n",
              "      <td>6-12-2018</td>\n",
              "      <td>8576</td>\n",
              "      <td>8698</td>\n",
              "      <td>2394</td>\n",
              "      <td>2378</td>\n",
              "    </tr>\n",
              "  </tbody>\n",
              "</table>\n",
              "<p>86 rows × 5 columns</p>\n",
              "</div>"
            ],
            "text/plain": [
              "          DATE  BLUECARS_RETURNED_SUM  ...  SLOTS_FREED_SUM  SLOTS_TAKEN_SUM\n",
              "58    3-5-2018                   7266  ...             1889             1883\n",
              "39    2-8-2018                   7120  ...             2078             2064\n",
              "74   4-24-2018                   6971  ...             1787             1775\n",
              "43   3-13-2018                   7727  ...             1957             1941\n",
              "57   3-30-2018                   8561  ...             2193             2205\n",
              "..         ...                    ...  ...              ...              ...\n",
              "59    3-6-2018                   7954  ...             2166             2143\n",
              "109   6-6-2018                   8423  ...             2229             2253\n",
              "73   4-23-2018                   6374  ...             1583             1611\n",
              "18   1-31-2018                   8136  ...             2170             2169\n",
              "101  6-12-2018                   8576  ...             2394             2378\n",
              "\n",
              "[86 rows x 5 columns]"
            ]
          },
          "metadata": {
            "tags": []
          },
          "execution_count": 433
        }
      ]
    },
    {
      "cell_type": "markdown",
      "metadata": {
        "id": "MFU-9i8WRoUs",
        "colab_type": "text"
      },
      "source": [
        "#8.CHALLENGING THE SOLUTION"
      ]
    },
    {
      "cell_type": "markdown",
      "metadata": {
        "id": "sml6R7mdD3W0",
        "colab_type": "text"
      },
      "source": [
        "## Hypothesis Testing"
      ]
    },
    {
      "cell_type": "markdown",
      "metadata": {
        "id": "LOK6US7HD-FA",
        "colab_type": "text"
      },
      "source": [
        "*Assumptions*\n",
        "\n",
        "\n",
        "1.   Our data follows a normal distribution\n",
        "2.   our data has been randomly selected\n",
        "\n",
        "\n"
      ]
    },
    {
      "cell_type": "code",
      "metadata": {
        "id": "USTWyzqVD1Gn",
        "colab_type": "code",
        "colab": {
          "base_uri": "https://localhost:8080/",
          "height": 123
        },
        "outputId": "573a603d-aabf-44e9-9314-6ea4ab2b3557"
      },
      "source": [
        "# check for normality\n",
        "# we will use the Anderson_Darling Test\n",
        "from scipy.stats import anderson\n",
        "result = anderson(sample['BLUECARS_TAKEN_SUM'])\n",
        "\n",
        "print('statistic = %.3f' % result.statistic)\n",
        "p = 0\n",
        "\n",
        "for i in range(len(result.critical_values)):\n",
        "  s1,cv = result.significance_level[i] , result.critical_values[i]\n",
        " \n",
        "  if result.statistic < result.critical_values[i]:\n",
        "    print('%.3f : %.3f, data looks Normal'% (s1,cv))\n",
        "  else:\n",
        "      print('%.3f : %.3f, data doesnt looks Normal'% (s1,cv))"
      ],
      "execution_count": 434,
      "outputs": [
        {
          "output_type": "stream",
          "text": [
            "statistic = 0.260\n",
            "15.000 : 0.552, data looks Normal\n",
            "10.000 : 0.629, data looks Normal\n",
            "5.000 : 0.754, data looks Normal\n",
            "2.500 : 0.880, data looks Normal\n",
            "1.000 : 1.047, data looks Normal\n"
          ],
          "name": "stdout"
        }
      ]
    },
    {
      "cell_type": "code",
      "metadata": {
        "id": "SIT0NmkzHGjA",
        "colab_type": "code",
        "colab": {
          "base_uri": "https://localhost:8080/",
          "height": 52
        },
        "outputId": "17e64a8f-fd1f-4366-a04a-be3ad64fd274"
      },
      "source": [
        "from scipy.stats import shapiro\n",
        "\n",
        "stat,p = shapiro(sample['BLUECARS_TAKEN_SUM'])\n",
        "print('statistic = %.3f, p= %.3f' % (stat,p))\n",
        "\n",
        "alpha= 0.05\n",
        "if p>0.05:\n",
        "  print('Sample looks Gaussian')\n",
        "else:\n",
        "  print('sample does not look Gaussian')\n",
        "\n",
        "# our data follows a normal distribution"
      ],
      "execution_count": 435,
      "outputs": [
        {
          "output_type": "stream",
          "text": [
            "statistic = 0.988, p= 0.609\n",
            "Sample looks Gaussian\n"
          ],
          "name": "stdout"
        }
      ]
    },
    {
      "cell_type": "markdown",
      "metadata": {
        "id": "1BBJZ12QHpKa",
        "colab_type": "text"
      },
      "source": [
        "\n",
        "\n",
        "\n",
        "1.   Ho : Number of average cars rented per day in paris is 9000\n",
        "2.   H1 : The average number of cars rented per day is less than 9000\n",
        "\n"
      ]
    },
    {
      "cell_type": "markdown",
      "metadata": {
        "id": "1wCpxfEbILFz",
        "colab_type": "text"
      },
      "source": [
        "Acceptance criteria\n",
        "\n",
        "our p_value = 0.05"
      ]
    },
    {
      "cell_type": "code",
      "metadata": {
        "id": "12rNqf2CIrXG",
        "colab_type": "code",
        "colab": {
          "base_uri": "https://localhost:8080/",
          "height": 176
        },
        "outputId": "4f185e69-8d25-4f88-9fac-8ed4e16e75c2"
      },
      "source": [
        "# describe our sample\n",
        "sample['BLUECARS_TAKEN_SUM'].describe()"
      ],
      "execution_count": 436,
      "outputs": [
        {
          "output_type": "execute_result",
          "data": {
            "text/plain": [
              "count      86.000000\n",
              "mean     7945.174419\n",
              "std       623.526521\n",
              "min      6314.000000\n",
              "25%      7561.000000\n",
              "50%      7957.500000\n",
              "75%      8371.250000\n",
              "max      9268.000000\n",
              "Name: BLUECARS_TAKEN_SUM, dtype: float64"
            ]
          },
          "metadata": {
            "tags": []
          },
          "execution_count": 436
        }
      ]
    },
    {
      "cell_type": "code",
      "metadata": {
        "id": "ITb1fzdIIy_2",
        "colab_type": "code",
        "colab": {
          "base_uri": "https://localhost:8080/",
          "height": 34
        },
        "outputId": "5ec00f59-2ca1-4ce9-9a66-f5fc727458a2"
      },
      "source": [
        "# Find our test statistic\n",
        "\n",
        "u = 8000\n",
        "X = sample['BLUECARS_TAKEN_SUM'].mean()\n",
        "s = sample['BLUECARS_TAKEN_SUM'].std()\n",
        "n= 86\n",
        "\n",
        "zscore = ((X-u)/(s/n**0.5))\n",
        "zscore"
      ],
      "execution_count": 437,
      "outputs": [
        {
          "output_type": "execute_result",
          "data": {
            "text/plain": [
              "-0.8154128311791786"
            ]
          },
          "metadata": {
            "tags": []
          },
          "execution_count": 437
        }
      ]
    },
    {
      "cell_type": "code",
      "metadata": {
        "id": "knLuNDGtJyfB",
        "colab_type": "code",
        "colab": {
          "base_uri": "https://localhost:8080/",
          "height": 34
        },
        "outputId": "cda5417e-b151-463f-d0ee-e46e06ee63c4"
      },
      "source": [
        "#finding our p values\n",
        "\n",
        "from scipy.stats import norm\n",
        "\n",
        "p = stats.norm.cdf(zscore)\n",
        "p"
      ],
      "execution_count": 438,
      "outputs": [
        {
          "output_type": "execute_result",
          "data": {
            "text/plain": [
              "0.20741802105517554"
            ]
          },
          "metadata": {
            "tags": []
          },
          "execution_count": 438
        }
      ]
    },
    {
      "cell_type": "code",
      "metadata": {
        "id": "30bRPZve2pJt",
        "colab_type": "code",
        "colab": {}
      },
      "source": [
        "sample.to_csv('sampledf.csv')"
      ],
      "execution_count": 0,
      "outputs": []
    },
    {
      "cell_type": "markdown",
      "metadata": {
        "id": "3eb-KX_zrCMd",
        "colab_type": "text"
      },
      "source": [
        ""
      ]
    },
    {
      "cell_type": "markdown",
      "metadata": {
        "id": "yHcOcsN0O0Vp",
        "colab_type": "text"
      },
      "source": [
        "CONCLUSION -\n",
        "\n",
        "We will reject the alternative hypothesis in favour of the null hypothesis\n",
        "\n",
        "There is not enough evidence to support the claim that the number of blue cars rented out in paris is less than to 8000"
      ]
    },
    {
      "cell_type": "markdown",
      "metadata": {
        "id": "yfLSbsxtQoKb",
        "colab_type": "text"
      },
      "source": [
        "#9.Follow up questions\n"
      ]
    },
    {
      "cell_type": "markdown",
      "metadata": {
        "id": "svwZEJX4QsbQ",
        "colab_type": "text"
      },
      "source": [
        "a). Did we have the right data?\n",
        "\n",
        "Yes\n",
        " \n",
        "because using the data we were able to conduct an experiment on our claim"
      ]
    },
    {
      "cell_type": "markdown",
      "metadata": {
        "id": "9VcsyzpyQ1pi",
        "colab_type": "text"
      },
      "source": [
        "b). Do we need other data to answer our question?\n",
        "\n",
        "no.\n",
        "\n",
        "The data provided was sufficient"
      ]
    },
    {
      "cell_type": "markdown",
      "metadata": {
        "id": "9Imf3Cm7Q_Kx",
        "colab_type": "text"
      },
      "source": [
        "c). Did we have the right question?\n",
        "YES\n",
        "\n",
        "We were able to make conclusion from our data"
      ]
    }
  ]
}