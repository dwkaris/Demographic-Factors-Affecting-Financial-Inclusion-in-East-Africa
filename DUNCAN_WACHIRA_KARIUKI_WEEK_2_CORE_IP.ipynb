{
  "nbformat": 4,
  "nbformat_minor": 0,
  "metadata": {
    "colab": {
      "name": "DUNCAN WACHIRA KARIUKI WEEK 2 CORE IP",
      "provenance": [],
      "authorship_tag": "ABX9TyP2nj58sHHGCxG9OgxVEz5v",
      "include_colab_link": true
    },
    "kernelspec": {
      "name": "python3",
      "display_name": "Python 3"
    }
  },
  "cells": [
    {
      "cell_type": "markdown",
      "metadata": {
        "id": "view-in-github",
        "colab_type": "text"
      },
      "source": [
        "<a href=\"https://colab.research.google.com/github/dwkaris/Exploratory-Data-Analysis-WEEK-2-IP/blob/master/DUNCAN_WACHIRA_KARIUKI_WEEK_2_CORE_IP.ipynb\" target=\"_parent\"><img src=\"https://colab.research.google.com/assets/colab-badge.svg\" alt=\"Open In Colab\"/></a>"
      ]
    },
    {
      "cell_type": "markdown",
      "metadata": {
        "id": "o6lkUmI6C9JE",
        "colab_type": "text"
      },
      "source": [
        "#**WEEK 2 INDEPENDENT PROJECT**"
      ]
    },
    {
      "cell_type": "markdown",
      "metadata": {
        "id": "-rSUFFzHDeyt",
        "colab_type": "text"
      },
      "source": [
        "# 1. **DEFINING THE ANALYTIC QUESTION**"
      ]
    },
    {
      "cell_type": "markdown",
      "metadata": {
        "id": "dfdvgFDsHcBQ",
        "colab_type": "text"
      },
      "source": [
        "## a) SPECIFYING THE DATA ANALYTIC QUESTION"
      ]
    },
    {
      "cell_type": "markdown",
      "metadata": {
        "id": "iSRfUDvAECRu",
        "colab_type": "text"
      },
      "source": [
        "  WHICH INDIVIDUALS ARE MOST LIKELY TO USE A BANK ACCOUNT"
      ]
    },
    {
      "cell_type": "markdown",
      "metadata": {
        "id": "pizq83yMEUo-",
        "colab_type": "text"
      },
      "source": [
        "##b) DEFINING THE METRICS OF SUCCESS"
      ]
    },
    {
      "cell_type": "markdown",
      "metadata": {
        "id": "9TRR94s_EryL",
        "colab_type": "text"
      },
      "source": [
        " \n",
        "1.   Provide insight into some dmographic that drive individuals financial outcome.\n",
        "2.   Show disparities between financial access and various demograghic factors.\n"
      ]
    },
    {
      "cell_type": "markdown",
      "metadata": {
        "id": "frKSKHcwGQzE",
        "colab_type": "text"
      },
      "source": [
        "##c) UNDERSTANDING THE CONTEXT"
      ]
    },
    {
      "cell_type": "markdown",
      "metadata": {
        "id": "oc-iZdyTGxZn",
        "colab_type": "text"
      },
      "source": [
        "##d) RECORDING THE EXPERIMETAL DESIGN "
      ]
    },
    {
      "cell_type": "markdown",
      "metadata": {
        "id": "0Mpz6RGmHBTn",
        "colab_type": "text"
      },
      "source": [
        "##e) DATA RELEVANCE"
      ]
    },
    {
      "cell_type": "markdown",
      "metadata": {
        "id": "dfawHM9oHJ4t",
        "colab_type": "text"
      },
      "source": [
        "#2. READING DATA"
      ]
    },
    {
      "cell_type": "markdown",
      "metadata": {
        "id": "0UV8fivcKWvu",
        "colab_type": "text"
      },
      "source": [
        "### IMPORTING OUR LIBRARIES"
      ]
    },
    {
      "cell_type": "code",
      "metadata": {
        "id": "nwUA4ss2KI6t",
        "colab_type": "code",
        "colab": {}
      },
      "source": [
        "import pandas as pd\n",
        "import numpy as np\n",
        "import matplotlib.pyplot as plt\n",
        "import seaborn as sns"
      ],
      "execution_count": 0,
      "outputs": []
    },
    {
      "cell_type": "markdown",
      "metadata": {
        "id": "xJMh5gZpQs9P",
        "colab_type": "text"
      },
      "source": [
        "### LOADING THE DATASET"
      ]
    },
    {
      "cell_type": "code",
      "metadata": {
        "id": "BU2JametIfbW",
        "colab_type": "code",
        "colab": {}
      },
      "source": [
        "# Loading our dataset\n",
        "# Dataset url: http://bit.ly/FinancialDataset (Links to an external site.) \n",
        "\n",
        "with open(\"Financial Dataset - 1.csv\",'r')as f:\n",
        "  finance = pd.read_csv(f, encoding= 'utf')\n"
      ],
      "execution_count": 0,
      "outputs": []
    },
    {
      "cell_type": "markdown",
      "metadata": {
        "id": "S5n7TSnZRwBW",
        "colab_type": "text"
      },
      "source": [
        "#3. CHEKING THE DATA"
      ]
    },
    {
      "cell_type": "code",
      "metadata": {
        "id": "zrZM334hSBaa",
        "colab_type": "code",
        "colab": {
          "base_uri": "https://localhost:8080/",
          "height": 35
        },
        "outputId": "5683ef6f-b6bb-4591-8152-5dcfd5d9d6d3"
      },
      "source": [
        "# Cheking the no. records of data in our dataset\n",
        "finance.shape"
      ],
      "execution_count": 95,
      "outputs": [
        {
          "output_type": "execute_result",
          "data": {
            "text/plain": [
              "(23524, 13)"
            ]
          },
          "metadata": {
            "tags": []
          },
          "execution_count": 95
        }
      ]
    },
    {
      "cell_type": "code",
      "metadata": {
        "id": "uDBciwMlJ-4_",
        "colab_type": "code",
        "colab": {
          "base_uri": "https://localhost:8080/",
          "height": 374
        },
        "outputId": "38e304f5-92c8-46d3-d62b-c5dec1e3e04f"
      },
      "source": [
        "#Preview the top of our dataset\n",
        "finance.head()"
      ],
      "execution_count": 96,
      "outputs": [
        {
          "output_type": "execute_result",
          "data": {
            "text/html": [
              "<div>\n",
              "<style scoped>\n",
              "    .dataframe tbody tr th:only-of-type {\n",
              "        vertical-align: middle;\n",
              "    }\n",
              "\n",
              "    .dataframe tbody tr th {\n",
              "        vertical-align: top;\n",
              "    }\n",
              "\n",
              "    .dataframe thead th {\n",
              "        text-align: right;\n",
              "    }\n",
              "</style>\n",
              "<table border=\"1\" class=\"dataframe\">\n",
              "  <thead>\n",
              "    <tr style=\"text-align: right;\">\n",
              "      <th></th>\n",
              "      <th>country</th>\n",
              "      <th>year</th>\n",
              "      <th>uniqueid</th>\n",
              "      <th>Has a Bank account</th>\n",
              "      <th>Type of Location</th>\n",
              "      <th>Cell Phone Access</th>\n",
              "      <th>household_size</th>\n",
              "      <th>Respondent Age</th>\n",
              "      <th>gender_of_respondent</th>\n",
              "      <th>The relathip with head</th>\n",
              "      <th>marital_status</th>\n",
              "      <th>Level of Educuation</th>\n",
              "      <th>Type of Job</th>\n",
              "    </tr>\n",
              "  </thead>\n",
              "  <tbody>\n",
              "    <tr>\n",
              "      <th>0</th>\n",
              "      <td>Kenya</td>\n",
              "      <td>2018</td>\n",
              "      <td>uniqueid_1</td>\n",
              "      <td>Yes</td>\n",
              "      <td>Rural</td>\n",
              "      <td>Yes</td>\n",
              "      <td>3.0</td>\n",
              "      <td>24.0</td>\n",
              "      <td>Female</td>\n",
              "      <td>Spouse</td>\n",
              "      <td>Married/Living together</td>\n",
              "      <td>Secondary education</td>\n",
              "      <td>Self employed</td>\n",
              "    </tr>\n",
              "    <tr>\n",
              "      <th>1</th>\n",
              "      <td>Kenya</td>\n",
              "      <td>2018</td>\n",
              "      <td>uniqueid_2</td>\n",
              "      <td>No</td>\n",
              "      <td>Rural</td>\n",
              "      <td>No</td>\n",
              "      <td>5.0</td>\n",
              "      <td>70.0</td>\n",
              "      <td>Female</td>\n",
              "      <td>Head of Household</td>\n",
              "      <td>Widowed</td>\n",
              "      <td>No formal education</td>\n",
              "      <td>Government Dependent</td>\n",
              "    </tr>\n",
              "    <tr>\n",
              "      <th>2</th>\n",
              "      <td>Kenya</td>\n",
              "      <td>2018</td>\n",
              "      <td>uniqueid_3</td>\n",
              "      <td>Yes</td>\n",
              "      <td>Urban</td>\n",
              "      <td>Yes</td>\n",
              "      <td>5.0</td>\n",
              "      <td>26.0</td>\n",
              "      <td>Male</td>\n",
              "      <td>Other relative</td>\n",
              "      <td>Single/Never Married</td>\n",
              "      <td>Vocational/Specialised training</td>\n",
              "      <td>Self employed</td>\n",
              "    </tr>\n",
              "    <tr>\n",
              "      <th>3</th>\n",
              "      <td>Kenya</td>\n",
              "      <td>2018</td>\n",
              "      <td>uniqueid_4</td>\n",
              "      <td>No</td>\n",
              "      <td>Rural</td>\n",
              "      <td>Yes</td>\n",
              "      <td>5.0</td>\n",
              "      <td>34.0</td>\n",
              "      <td>Female</td>\n",
              "      <td>Head of Household</td>\n",
              "      <td>Married/Living together</td>\n",
              "      <td>Primary education</td>\n",
              "      <td>Formally employed Private</td>\n",
              "    </tr>\n",
              "    <tr>\n",
              "      <th>4</th>\n",
              "      <td>Kenya</td>\n",
              "      <td>2018</td>\n",
              "      <td>uniqueid_5</td>\n",
              "      <td>No</td>\n",
              "      <td>Urban</td>\n",
              "      <td>No</td>\n",
              "      <td>8.0</td>\n",
              "      <td>26.0</td>\n",
              "      <td>Male</td>\n",
              "      <td>Child</td>\n",
              "      <td>Single/Never Married</td>\n",
              "      <td>Primary education</td>\n",
              "      <td>Informally employed</td>\n",
              "    </tr>\n",
              "  </tbody>\n",
              "</table>\n",
              "</div>"
            ],
            "text/plain": [
              "  country  year  ...              Level of Educuation                Type of Job\n",
              "0   Kenya  2018  ...              Secondary education              Self employed\n",
              "1   Kenya  2018  ...              No formal education       Government Dependent\n",
              "2   Kenya  2018  ...  Vocational/Specialised training              Self employed\n",
              "3   Kenya  2018  ...                Primary education  Formally employed Private\n",
              "4   Kenya  2018  ...                Primary education        Informally employed\n",
              "\n",
              "[5 rows x 13 columns]"
            ]
          },
          "metadata": {
            "tags": []
          },
          "execution_count": 96
        }
      ]
    },
    {
      "cell_type": "code",
      "metadata": {
        "id": "gZC_qVwNSm5k",
        "colab_type": "code",
        "colab": {
          "base_uri": "https://localhost:8080/",
          "height": 356
        },
        "outputId": "4a227338-99b4-4289-89f7-0f010fd215e3"
      },
      "source": [
        "# Pre view botton of our dataset\n",
        "\n",
        "finance.tail()"
      ],
      "execution_count": 97,
      "outputs": [
        {
          "output_type": "execute_result",
          "data": {
            "text/html": [
              "<div>\n",
              "<style scoped>\n",
              "    .dataframe tbody tr th:only-of-type {\n",
              "        vertical-align: middle;\n",
              "    }\n",
              "\n",
              "    .dataframe tbody tr th {\n",
              "        vertical-align: top;\n",
              "    }\n",
              "\n",
              "    .dataframe thead th {\n",
              "        text-align: right;\n",
              "    }\n",
              "</style>\n",
              "<table border=\"1\" class=\"dataframe\">\n",
              "  <thead>\n",
              "    <tr style=\"text-align: right;\">\n",
              "      <th></th>\n",
              "      <th>country</th>\n",
              "      <th>year</th>\n",
              "      <th>uniqueid</th>\n",
              "      <th>Has a Bank account</th>\n",
              "      <th>Type of Location</th>\n",
              "      <th>Cell Phone Access</th>\n",
              "      <th>household_size</th>\n",
              "      <th>Respondent Age</th>\n",
              "      <th>gender_of_respondent</th>\n",
              "      <th>The relathip with head</th>\n",
              "      <th>marital_status</th>\n",
              "      <th>Level of Educuation</th>\n",
              "      <th>Type of Job</th>\n",
              "    </tr>\n",
              "  </thead>\n",
              "  <tbody>\n",
              "    <tr>\n",
              "      <th>23519</th>\n",
              "      <td>Uganda</td>\n",
              "      <td>2018</td>\n",
              "      <td>uniqueid_2113</td>\n",
              "      <td>No</td>\n",
              "      <td>Rural</td>\n",
              "      <td>Yes</td>\n",
              "      <td>4.0</td>\n",
              "      <td>48.0</td>\n",
              "      <td>Female</td>\n",
              "      <td>Head of Household</td>\n",
              "      <td>Divorced/Seperated</td>\n",
              "      <td>No formal education</td>\n",
              "      <td>Other Income</td>\n",
              "    </tr>\n",
              "    <tr>\n",
              "      <th>23520</th>\n",
              "      <td>Uganda</td>\n",
              "      <td>2018</td>\n",
              "      <td>uniqueid_2114</td>\n",
              "      <td>No</td>\n",
              "      <td>Rural</td>\n",
              "      <td>Yes</td>\n",
              "      <td>2.0</td>\n",
              "      <td>27.0</td>\n",
              "      <td>Female</td>\n",
              "      <td>Head of Household</td>\n",
              "      <td>Single/Never Married</td>\n",
              "      <td>Secondary education</td>\n",
              "      <td>Other Income</td>\n",
              "    </tr>\n",
              "    <tr>\n",
              "      <th>23521</th>\n",
              "      <td>Uganda</td>\n",
              "      <td>2018</td>\n",
              "      <td>uniqueid_2115</td>\n",
              "      <td>No</td>\n",
              "      <td>Rural</td>\n",
              "      <td>Yes</td>\n",
              "      <td>5.0</td>\n",
              "      <td>27.0</td>\n",
              "      <td>Female</td>\n",
              "      <td>Parent</td>\n",
              "      <td>Widowed</td>\n",
              "      <td>Primary education</td>\n",
              "      <td>Other Income</td>\n",
              "    </tr>\n",
              "    <tr>\n",
              "      <th>23522</th>\n",
              "      <td>Uganda</td>\n",
              "      <td>2018</td>\n",
              "      <td>uniqueid_2116</td>\n",
              "      <td>No</td>\n",
              "      <td>Urban</td>\n",
              "      <td>Yes</td>\n",
              "      <td>7.0</td>\n",
              "      <td>30.0</td>\n",
              "      <td>Female</td>\n",
              "      <td>Parent</td>\n",
              "      <td>Divorced/Seperated</td>\n",
              "      <td>Secondary education</td>\n",
              "      <td>Self employed</td>\n",
              "    </tr>\n",
              "    <tr>\n",
              "      <th>23523</th>\n",
              "      <td>Uganda</td>\n",
              "      <td>2018</td>\n",
              "      <td>uniqueid_2117</td>\n",
              "      <td>No</td>\n",
              "      <td>Rural</td>\n",
              "      <td>Yes</td>\n",
              "      <td>10.0</td>\n",
              "      <td>20.0</td>\n",
              "      <td>Male</td>\n",
              "      <td>Child</td>\n",
              "      <td>Single/Never Married</td>\n",
              "      <td>Secondary education</td>\n",
              "      <td>No Income</td>\n",
              "    </tr>\n",
              "  </tbody>\n",
              "</table>\n",
              "</div>"
            ],
            "text/plain": [
              "      country  year  ...  Level of Educuation    Type of Job\n",
              "23519  Uganda  2018  ...  No formal education   Other Income\n",
              "23520  Uganda  2018  ...  Secondary education   Other Income\n",
              "23521  Uganda  2018  ...    Primary education   Other Income\n",
              "23522  Uganda  2018  ...  Secondary education  Self employed\n",
              "23523  Uganda  2018  ...  Secondary education      No Income\n",
              "\n",
              "[5 rows x 13 columns]"
            ]
          },
          "metadata": {
            "tags": []
          },
          "execution_count": 97
        }
      ]
    },
    {
      "cell_type": "code",
      "metadata": {
        "id": "ib_Na4wbTHWO",
        "colab_type": "code",
        "colab": {
          "base_uri": "https://localhost:8080/",
          "height": 272
        },
        "outputId": "375ee993-519a-4863-ace5-3dc41ba19141"
      },
      "source": [
        "# Checking the datatypes oof our dataset\n",
        "finance.dtypes"
      ],
      "execution_count": 98,
      "outputs": [
        {
          "output_type": "execute_result",
          "data": {
            "text/plain": [
              "country                    object\n",
              "year                        int64\n",
              "uniqueid                   object\n",
              "Has a Bank account         object\n",
              "Type of Location           object\n",
              "Cell Phone Access          object\n",
              "household_size            float64\n",
              "Respondent Age            float64\n",
              "gender_of_respondent       object\n",
              "The relathip with head     object\n",
              "marital_status             object\n",
              "Level of Educuation        object\n",
              "Type of Job                object\n",
              "dtype: object"
            ]
          },
          "metadata": {
            "tags": []
          },
          "execution_count": 98
        }
      ]
    },
    {
      "cell_type": "markdown",
      "metadata": {
        "id": "2rKX6112VEKH",
        "colab_type": "text"
      },
      "source": [
        "# 4.EXTERNAL DATASOURCE VALIDATION"
      ]
    },
    {
      "cell_type": "markdown",
      "metadata": {
        "id": "MNjkwg2wVPeK",
        "colab_type": "text"
      },
      "source": [
        "Making sure your data matches something outside of the dataset is very important. It allows you to ensure that the measurements are roughly in line with what they should be and it serves as a check on what other things might be wrong in your dataset. External validation can often be as simple as checking your data against a single number.\n",
        "\n",
        "Validating such information with an external reliable resource such as World Bank Data would be important step to providing credibility to our dataset. "
      ]
    },
    {
      "cell_type": "markdown",
      "metadata": {
        "id": "PcRx3InXV-X8",
        "colab_type": "text"
      },
      "source": [
        "# 5. TIDYING THE DATASET"
      ]
    },
    {
      "cell_type": "code",
      "metadata": {
        "id": "7ekW3EFkW5wu",
        "colab_type": "code",
        "colab": {
          "base_uri": "https://localhost:8080/",
          "height": 339
        },
        "outputId": "9f28e6df-f0d4-498c-ba7e-a3d72528ee25"
      },
      "source": [
        "# Change the column names to smaller names that can fit in our visualizatons\n",
        "finance.columns = ['country','year','id', 'Bank account', 'Location','Phone', 'householdsize', 'Age','gender', 'househierachy', 'status','Educuation', 'Jobtype']\n",
        "finance.head()"
      ],
      "execution_count": 99,
      "outputs": [
        {
          "output_type": "execute_result",
          "data": {
            "text/html": [
              "<div>\n",
              "<style scoped>\n",
              "    .dataframe tbody tr th:only-of-type {\n",
              "        vertical-align: middle;\n",
              "    }\n",
              "\n",
              "    .dataframe tbody tr th {\n",
              "        vertical-align: top;\n",
              "    }\n",
              "\n",
              "    .dataframe thead th {\n",
              "        text-align: right;\n",
              "    }\n",
              "</style>\n",
              "<table border=\"1\" class=\"dataframe\">\n",
              "  <thead>\n",
              "    <tr style=\"text-align: right;\">\n",
              "      <th></th>\n",
              "      <th>country</th>\n",
              "      <th>year</th>\n",
              "      <th>id</th>\n",
              "      <th>Bank account</th>\n",
              "      <th>Location</th>\n",
              "      <th>Phone</th>\n",
              "      <th>householdsize</th>\n",
              "      <th>Age</th>\n",
              "      <th>gender</th>\n",
              "      <th>househierachy</th>\n",
              "      <th>status</th>\n",
              "      <th>Educuation</th>\n",
              "      <th>Jobtype</th>\n",
              "    </tr>\n",
              "  </thead>\n",
              "  <tbody>\n",
              "    <tr>\n",
              "      <th>0</th>\n",
              "      <td>Kenya</td>\n",
              "      <td>2018</td>\n",
              "      <td>uniqueid_1</td>\n",
              "      <td>Yes</td>\n",
              "      <td>Rural</td>\n",
              "      <td>Yes</td>\n",
              "      <td>3.0</td>\n",
              "      <td>24.0</td>\n",
              "      <td>Female</td>\n",
              "      <td>Spouse</td>\n",
              "      <td>Married/Living together</td>\n",
              "      <td>Secondary education</td>\n",
              "      <td>Self employed</td>\n",
              "    </tr>\n",
              "    <tr>\n",
              "      <th>1</th>\n",
              "      <td>Kenya</td>\n",
              "      <td>2018</td>\n",
              "      <td>uniqueid_2</td>\n",
              "      <td>No</td>\n",
              "      <td>Rural</td>\n",
              "      <td>No</td>\n",
              "      <td>5.0</td>\n",
              "      <td>70.0</td>\n",
              "      <td>Female</td>\n",
              "      <td>Head of Household</td>\n",
              "      <td>Widowed</td>\n",
              "      <td>No formal education</td>\n",
              "      <td>Government Dependent</td>\n",
              "    </tr>\n",
              "    <tr>\n",
              "      <th>2</th>\n",
              "      <td>Kenya</td>\n",
              "      <td>2018</td>\n",
              "      <td>uniqueid_3</td>\n",
              "      <td>Yes</td>\n",
              "      <td>Urban</td>\n",
              "      <td>Yes</td>\n",
              "      <td>5.0</td>\n",
              "      <td>26.0</td>\n",
              "      <td>Male</td>\n",
              "      <td>Other relative</td>\n",
              "      <td>Single/Never Married</td>\n",
              "      <td>Vocational/Specialised training</td>\n",
              "      <td>Self employed</td>\n",
              "    </tr>\n",
              "    <tr>\n",
              "      <th>3</th>\n",
              "      <td>Kenya</td>\n",
              "      <td>2018</td>\n",
              "      <td>uniqueid_4</td>\n",
              "      <td>No</td>\n",
              "      <td>Rural</td>\n",
              "      <td>Yes</td>\n",
              "      <td>5.0</td>\n",
              "      <td>34.0</td>\n",
              "      <td>Female</td>\n",
              "      <td>Head of Household</td>\n",
              "      <td>Married/Living together</td>\n",
              "      <td>Primary education</td>\n",
              "      <td>Formally employed Private</td>\n",
              "    </tr>\n",
              "    <tr>\n",
              "      <th>4</th>\n",
              "      <td>Kenya</td>\n",
              "      <td>2018</td>\n",
              "      <td>uniqueid_5</td>\n",
              "      <td>No</td>\n",
              "      <td>Urban</td>\n",
              "      <td>No</td>\n",
              "      <td>8.0</td>\n",
              "      <td>26.0</td>\n",
              "      <td>Male</td>\n",
              "      <td>Child</td>\n",
              "      <td>Single/Never Married</td>\n",
              "      <td>Primary education</td>\n",
              "      <td>Informally employed</td>\n",
              "    </tr>\n",
              "  </tbody>\n",
              "</table>\n",
              "</div>"
            ],
            "text/plain": [
              "  country  year  ...                       Educuation                    Jobtype\n",
              "0   Kenya  2018  ...              Secondary education              Self employed\n",
              "1   Kenya  2018  ...              No formal education       Government Dependent\n",
              "2   Kenya  2018  ...  Vocational/Specialised training              Self employed\n",
              "3   Kenya  2018  ...                Primary education  Formally employed Private\n",
              "4   Kenya  2018  ...                Primary education        Informally employed\n",
              "\n",
              "[5 rows x 13 columns]"
            ]
          },
          "metadata": {
            "tags": []
          },
          "execution_count": 99
        }
      ]
    },
    {
      "cell_type": "code",
      "metadata": {
        "id": "UasbMNLVfPMw",
        "colab_type": "code",
        "colab": {
          "base_uri": "https://localhost:8080/",
          "height": 180
        },
        "outputId": "885cc3b6-e7eb-4633-c800-c732902b681d"
      },
      "source": [
        "# Removing white spaces and ensuring uniformity in our dataset\n",
        "\n",
        "finance.columns = finance.columns.str.strip().str.upper()\n",
        "finance['COUNTRY'] = finance['COUNTRY'].str.replace(' ',' ').str.lower()\n",
        "finance['ID'] = finance['ID'].str.replace(' ',' ').str.lower()\n",
        "finance['BANK ACCOUNT'] = finance['BANK ACCOUNT'].str.replace(' ',' ').str.lower()\n",
        "finance['LOCATION']= finance['LOCATION'].str.replace(' ',' ').str.lower()\n",
        "finance['PHONE'] = finance['PHONE'].str.replace(' ',' ').str.lower()\n",
        "finance['GENDER']= finance['GENDER'].str.replace(' ',' ').str.lower()\n",
        "finance['HOUSEHIERACHY'] = finance['HOUSEHIERACHY'].str.replace(' ',' ').str.lower() \n",
        "finance['STATUS'] = finance['STATUS'].str.replace(' ',' ').str.lower() \n",
        "finance['EDUCUATION'] = finance['EDUCUATION'].str.replace(' ',' ').str.lower() \n",
        "finance['JOBTYPE'] = finance['JOBTYPE'].str.replace(' ',' ').str.lower() \n",
        "finance.head(2)"
      ],
      "execution_count": 100,
      "outputs": [
        {
          "output_type": "execute_result",
          "data": {
            "text/html": [
              "<div>\n",
              "<style scoped>\n",
              "    .dataframe tbody tr th:only-of-type {\n",
              "        vertical-align: middle;\n",
              "    }\n",
              "\n",
              "    .dataframe tbody tr th {\n",
              "        vertical-align: top;\n",
              "    }\n",
              "\n",
              "    .dataframe thead th {\n",
              "        text-align: right;\n",
              "    }\n",
              "</style>\n",
              "<table border=\"1\" class=\"dataframe\">\n",
              "  <thead>\n",
              "    <tr style=\"text-align: right;\">\n",
              "      <th></th>\n",
              "      <th>COUNTRY</th>\n",
              "      <th>YEAR</th>\n",
              "      <th>ID</th>\n",
              "      <th>BANK ACCOUNT</th>\n",
              "      <th>LOCATION</th>\n",
              "      <th>PHONE</th>\n",
              "      <th>HOUSEHOLDSIZE</th>\n",
              "      <th>AGE</th>\n",
              "      <th>GENDER</th>\n",
              "      <th>HOUSEHIERACHY</th>\n",
              "      <th>STATUS</th>\n",
              "      <th>EDUCUATION</th>\n",
              "      <th>JOBTYPE</th>\n",
              "    </tr>\n",
              "  </thead>\n",
              "  <tbody>\n",
              "    <tr>\n",
              "      <th>0</th>\n",
              "      <td>kenya</td>\n",
              "      <td>2018</td>\n",
              "      <td>uniqueid_1</td>\n",
              "      <td>yes</td>\n",
              "      <td>rural</td>\n",
              "      <td>yes</td>\n",
              "      <td>3.0</td>\n",
              "      <td>24.0</td>\n",
              "      <td>female</td>\n",
              "      <td>spouse</td>\n",
              "      <td>married/living together</td>\n",
              "      <td>secondary education</td>\n",
              "      <td>self employed</td>\n",
              "    </tr>\n",
              "    <tr>\n",
              "      <th>1</th>\n",
              "      <td>kenya</td>\n",
              "      <td>2018</td>\n",
              "      <td>uniqueid_2</td>\n",
              "      <td>no</td>\n",
              "      <td>rural</td>\n",
              "      <td>no</td>\n",
              "      <td>5.0</td>\n",
              "      <td>70.0</td>\n",
              "      <td>female</td>\n",
              "      <td>head of household</td>\n",
              "      <td>widowed</td>\n",
              "      <td>no formal education</td>\n",
              "      <td>government dependent</td>\n",
              "    </tr>\n",
              "  </tbody>\n",
              "</table>\n",
              "</div>"
            ],
            "text/plain": [
              "  COUNTRY  YEAR  ...           EDUCUATION               JOBTYPE\n",
              "0   kenya  2018  ...  secondary education         self employed\n",
              "1   kenya  2018  ...  no formal education  government dependent\n",
              "\n",
              "[2 rows x 13 columns]"
            ]
          },
          "metadata": {
            "tags": []
          },
          "execution_count": 100
        }
      ]
    },
    {
      "cell_type": "code",
      "metadata": {
        "id": "jYvhV7f8AASh",
        "colab_type": "code",
        "colab": {}
      },
      "source": [
        "# Describing our categorical variables"
      ],
      "execution_count": 0,
      "outputs": []
    },
    {
      "cell_type": "code",
      "metadata": {
        "id": "cHkkW_lGjYln",
        "colab_type": "code",
        "colab": {
          "base_uri": "https://localhost:8080/",
          "height": 801
        },
        "outputId": "111425b2-9028-4ad0-e34c-bd0a9e84a147"
      },
      "source": [
        "# Cheking for outliers\n",
        "\n",
        "fig, (ax1, ax2,ax3) = plt.subplots(3,1, figsize=(10,12))\n",
        "\n",
        "fig.suptitle('BOXPLOTS')\n",
        "\n",
        "sns.boxplot(finance['YEAR'], ax= ax1, orient = 'h')\n",
        "sns.boxplot(finance['AGE'],ax = ax2, orient = 'h')\n",
        "sns.boxplot(finance['HOUSEHOLDSIZE'], ax = ax3, orient = 'h')\n",
        "plt.show()"
      ],
      "execution_count": 102,
      "outputs": [
        {
          "output_type": "display_data",
          "data": {
            "image/png": "[encoded data removed]",
            "text/plain": [
              "<Figure size 720x864 with 3 Axes>"
            ]
          },
          "metadata": {
            "tags": [],
            "needs_background": "light"
          }
        }
      ]
    },
    {
      "cell_type": "code",
      "metadata": {
        "id": "FfGfsTf46T27",
        "colab_type": "code",
        "colab": {
          "base_uri": "https://localhost:8080/",
          "height": 288
        },
        "outputId": "6e9a01ed-5ca6-411e-e47f-c264cd92e3fb"
      },
      "source": [
        "#check anomalies for numerical data\n",
        "finance.describe() "
      ],
      "execution_count": 103,
      "outputs": [
        {
          "output_type": "execute_result",
          "data": {
            "text/html": [
              "<div>\n",
              "<style scoped>\n",
              "    .dataframe tbody tr th:only-of-type {\n",
              "        vertical-align: middle;\n",
              "    }\n",
              "\n",
              "    .dataframe tbody tr th {\n",
              "        vertical-align: top;\n",
              "    }\n",
              "\n",
              "    .dataframe thead th {\n",
              "        text-align: right;\n",
              "    }\n",
              "</style>\n",
              "<table border=\"1\" class=\"dataframe\">\n",
              "  <thead>\n",
              "    <tr style=\"text-align: right;\">\n",
              "      <th></th>\n",
              "      <th>YEAR</th>\n",
              "      <th>HOUSEHOLDSIZE</th>\n",
              "      <th>AGE</th>\n",
              "    </tr>\n",
              "  </thead>\n",
              "  <tbody>\n",
              "    <tr>\n",
              "      <th>count</th>\n",
              "      <td>23524.000000</td>\n",
              "      <td>23496.000000</td>\n",
              "      <td>23490.000000</td>\n",
              "    </tr>\n",
              "    <tr>\n",
              "      <th>mean</th>\n",
              "      <td>2016.979000</td>\n",
              "      <td>3.681818</td>\n",
              "      <td>38.804300</td>\n",
              "    </tr>\n",
              "    <tr>\n",
              "      <th>std</th>\n",
              "      <td>0.899669</td>\n",
              "      <td>2.279933</td>\n",
              "      <td>16.519996</td>\n",
              "    </tr>\n",
              "    <tr>\n",
              "      <th>min</th>\n",
              "      <td>2016.000000</td>\n",
              "      <td>0.000000</td>\n",
              "      <td>16.000000</td>\n",
              "    </tr>\n",
              "    <tr>\n",
              "      <th>25%</th>\n",
              "      <td>2016.000000</td>\n",
              "      <td>2.000000</td>\n",
              "      <td>26.000000</td>\n",
              "    </tr>\n",
              "    <tr>\n",
              "      <th>50%</th>\n",
              "      <td>2017.000000</td>\n",
              "      <td>3.000000</td>\n",
              "      <td>35.000000</td>\n",
              "    </tr>\n",
              "    <tr>\n",
              "      <th>75%</th>\n",
              "      <td>2018.000000</td>\n",
              "      <td>5.000000</td>\n",
              "      <td>49.000000</td>\n",
              "    </tr>\n",
              "    <tr>\n",
              "      <th>max</th>\n",
              "      <td>2056.000000</td>\n",
              "      <td>21.000000</td>\n",
              "      <td>100.000000</td>\n",
              "    </tr>\n",
              "  </tbody>\n",
              "</table>\n",
              "</div>"
            ],
            "text/plain": [
              "               YEAR  HOUSEHOLDSIZE           AGE\n",
              "count  23524.000000   23496.000000  23490.000000\n",
              "mean    2016.979000       3.681818     38.804300\n",
              "std        0.899669       2.279933     16.519996\n",
              "min     2016.000000       0.000000     16.000000\n",
              "25%     2016.000000       2.000000     26.000000\n",
              "50%     2017.000000       3.000000     35.000000\n",
              "75%     2018.000000       5.000000     49.000000\n",
              "max     2056.000000      21.000000    100.000000"
            ]
          },
          "metadata": {
            "tags": []
          },
          "execution_count": 103
        }
      ]
    },
    {
      "cell_type": "code",
      "metadata": {
        "id": "3DLbjpm5Zt82",
        "colab_type": "code",
        "colab": {
          "base_uri": "https://localhost:8080/",
          "height": 272
        },
        "outputId": "62f49e35-e9e3-4a19-e557-b3af13e089ab"
      },
      "source": [
        "# Identifying the Missing Data\n",
        "#\n",
        "finance.isnull().sum()"
      ],
      "execution_count": 104,
      "outputs": [
        {
          "output_type": "execute_result",
          "data": {
            "text/plain": [
              "COUNTRY          14\n",
              "YEAR              0\n",
              "ID                0\n",
              "BANK ACCOUNT     36\n",
              "LOCATION         15\n",
              "PHONE            11\n",
              "HOUSEHOLDSIZE    28\n",
              "AGE              34\n",
              "GENDER           34\n",
              "HOUSEHIERACHY     4\n",
              "STATUS           32\n",
              "EDUCUATION       29\n",
              "JOBTYPE          30\n",
              "dtype: int64"
            ]
          },
          "metadata": {
            "tags": []
          },
          "execution_count": 104
        }
      ]
    },
    {
      "cell_type": "code",
      "metadata": {
        "id": "8NvWIzo8Zy_-",
        "colab_type": "code",
        "colab": {
          "base_uri": "https://localhost:8080/",
          "height": 381
        },
        "outputId": "1df0cddb-8690-4bfa-b1a1-c0af47d21cb6"
      },
      "source": [
        "# Dealing with the Missing Data\n",
        "#\n",
        "\n",
        "finance.dropna(axis=0, how = 'any', inplace = True)\n",
        "finance.info()"
      ],
      "execution_count": 105,
      "outputs": [
        {
          "output_type": "stream",
          "text": [
            "<class 'pandas.core.frame.DataFrame'>\n",
            "Int64Index: 23343 entries, 0 to 23523\n",
            "Data columns (total 13 columns):\n",
            " #   Column         Non-Null Count  Dtype  \n",
            "---  ------         --------------  -----  \n",
            " 0   COUNTRY        23343 non-null  object \n",
            " 1   YEAR           23343 non-null  int64  \n",
            " 2   ID             23343 non-null  object \n",
            " 3   BANK ACCOUNT   23343 non-null  object \n",
            " 4   LOCATION       23343 non-null  object \n",
            " 5   PHONE          23343 non-null  object \n",
            " 6   HOUSEHOLDSIZE  23343 non-null  float64\n",
            " 7   AGE            23343 non-null  float64\n",
            " 8   GENDER         23343 non-null  object \n",
            " 9   HOUSEHIERACHY  23343 non-null  object \n",
            " 10  STATUS         23343 non-null  object \n",
            " 11  EDUCUATION     23343 non-null  object \n",
            " 12  JOBTYPE        23343 non-null  object \n",
            "dtypes: float64(2), int64(1), object(10)\n",
            "memory usage: 2.5+ MB\n"
          ],
          "name": "stdout"
        }
      ]
    },
    {
      "cell_type": "code",
      "metadata": {
        "id": "J8rgOJiR-LDu",
        "colab_type": "code",
        "colab": {
          "base_uri": "https://localhost:8080/",
          "height": 35
        },
        "outputId": "65363dbd-1b14-4a62-cc97-0f54ed1a7308"
      },
      "source": [
        "# REMOVING OUTLIERS\n",
        "finance = finance[finance['YEAR'] <= 2018]\n",
        "finance['YEAR'].unique()"
      ],
      "execution_count": 106,
      "outputs": [
        {
          "output_type": "execute_result",
          "data": {
            "text/plain": [
              "array([2018, 2016, 2017])"
            ]
          },
          "metadata": {
            "tags": []
          },
          "execution_count": 106
        }
      ]
    },
    {
      "cell_type": "markdown",
      "metadata": {
        "id": "Q0rlB6hjk1pj",
        "colab_type": "text"
      },
      "source": [
        "# 5.EXPLANATORY ANAYSIS"
      ]
    },
    {
      "cell_type": "markdown",
      "metadata": {
        "id": "j4bQWQshlMj8",
        "colab_type": "text"
      },
      "source": [
        "##UNIVARIATE ANALYSIS"
      ]
    },
    {
      "cell_type": "code",
      "metadata": {
        "id": "ktCbwyJPzmXt",
        "colab_type": "code",
        "colab": {
          "base_uri": "https://localhost:8080/",
          "height": 0
        },
        "outputId": "79ebbc23-4dea-4350-b012-3aa4baeede36"
      },
      "source": [
        "# Measure of Central Tendancy for categorical data\n",
        "\n",
        "f_mode =finance[['COUNTRY', 'YEAR', 'BANK ACCOUNT', 'LOCATION', 'PHONE', 'GENDER', 'HOUSEHIERACHY', 'STATUS','EDUCUATION', 'JOBTYPE']].mode()\n",
        "f_mode.T"
      ],
      "execution_count": 107,
      "outputs": [
        {
          "output_type": "execute_result",
          "data": {
            "text/html": [
              "<div>\n",
              "<style scoped>\n",
              "    .dataframe tbody tr th:only-of-type {\n",
              "        vertical-align: middle;\n",
              "    }\n",
              "\n",
              "    .dataframe tbody tr th {\n",
              "        vertical-align: top;\n",
              "    }\n",
              "\n",
              "    .dataframe thead th {\n",
              "        text-align: right;\n",
              "    }\n",
              "</style>\n",
              "<table border=\"1\" class=\"dataframe\">\n",
              "  <thead>\n",
              "    <tr style=\"text-align: right;\">\n",
              "      <th></th>\n",
              "      <th>0</th>\n",
              "    </tr>\n",
              "  </thead>\n",
              "  <tbody>\n",
              "    <tr>\n",
              "      <th>COUNTRY</th>\n",
              "      <td>rwanda</td>\n",
              "    </tr>\n",
              "    <tr>\n",
              "      <th>YEAR</th>\n",
              "      <td>2016</td>\n",
              "    </tr>\n",
              "    <tr>\n",
              "      <th>BANK ACCOUNT</th>\n",
              "      <td>no</td>\n",
              "    </tr>\n",
              "    <tr>\n",
              "      <th>LOCATION</th>\n",
              "      <td>rural</td>\n",
              "    </tr>\n",
              "    <tr>\n",
              "      <th>PHONE</th>\n",
              "      <td>yes</td>\n",
              "    </tr>\n",
              "    <tr>\n",
              "      <th>GENDER</th>\n",
              "      <td>female</td>\n",
              "    </tr>\n",
              "    <tr>\n",
              "      <th>HOUSEHIERACHY</th>\n",
              "      <td>head of household</td>\n",
              "    </tr>\n",
              "    <tr>\n",
              "      <th>STATUS</th>\n",
              "      <td>married/living together</td>\n",
              "    </tr>\n",
              "    <tr>\n",
              "      <th>EDUCUATION</th>\n",
              "      <td>primary education</td>\n",
              "    </tr>\n",
              "    <tr>\n",
              "      <th>JOBTYPE</th>\n",
              "      <td>self employed</td>\n",
              "    </tr>\n",
              "  </tbody>\n",
              "</table>\n",
              "</div>"
            ],
            "text/plain": [
              "                                     0\n",
              "COUNTRY                         rwanda\n",
              "YEAR                              2016\n",
              "BANK ACCOUNT                        no\n",
              "LOCATION                         rural\n",
              "PHONE                              yes\n",
              "GENDER                          female\n",
              "HOUSEHIERACHY        head of household\n",
              "STATUS         married/living together\n",
              "EDUCUATION           primary education\n",
              "JOBTYPE                  self employed"
            ]
          },
          "metadata": {
            "tags": []
          },
          "execution_count": 107
        }
      ]
    },
    {
      "cell_type": "code",
      "metadata": {
        "id": "XFxZGpPL1bYc",
        "colab_type": "code",
        "colab": {
          "base_uri": "https://localhost:8080/",
          "height": 0
        },
        "outputId": "95bb2b02-4537-4458-c5c6-09b05d0d1672"
      },
      "source": [
        "# Measure of Central Tendancy for numerical\n",
        "finance.describe()\n",
        "# 25% is the first quatile\n",
        "# 50% is the median\n",
        "# 75% is the third quatile\n",
        "# std is the standard deviation"
      ],
      "execution_count": 108,
      "outputs": [
        {
          "output_type": "execute_result",
          "data": {
            "text/html": [
              "<div>\n",
              "<style scoped>\n",
              "    .dataframe tbody tr th:only-of-type {\n",
              "        vertical-align: middle;\n",
              "    }\n",
              "\n",
              "    .dataframe tbody tr th {\n",
              "        vertical-align: top;\n",
              "    }\n",
              "\n",
              "    .dataframe thead th {\n",
              "        text-align: right;\n",
              "    }\n",
              "</style>\n",
              "<table border=\"1\" class=\"dataframe\">\n",
              "  <thead>\n",
              "    <tr style=\"text-align: right;\">\n",
              "      <th></th>\n",
              "      <th>YEAR</th>\n",
              "      <th>HOUSEHOLDSIZE</th>\n",
              "      <th>AGE</th>\n",
              "    </tr>\n",
              "  </thead>\n",
              "  <tbody>\n",
              "    <tr>\n",
              "      <th>count</th>\n",
              "      <td>23340.000000</td>\n",
              "      <td>23340.000000</td>\n",
              "      <td>23340.000000</td>\n",
              "    </tr>\n",
              "    <tr>\n",
              "      <th>mean</th>\n",
              "      <td>2016.977464</td>\n",
              "      <td>3.688560</td>\n",
              "      <td>38.807069</td>\n",
              "    </tr>\n",
              "    <tr>\n",
              "      <th>std</th>\n",
              "      <td>0.849136</td>\n",
              "      <td>2.281275</td>\n",
              "      <td>16.519905</td>\n",
              "    </tr>\n",
              "    <tr>\n",
              "      <th>min</th>\n",
              "      <td>2016.000000</td>\n",
              "      <td>0.000000</td>\n",
              "      <td>16.000000</td>\n",
              "    </tr>\n",
              "    <tr>\n",
              "      <th>25%</th>\n",
              "      <td>2016.000000</td>\n",
              "      <td>2.000000</td>\n",
              "      <td>26.000000</td>\n",
              "    </tr>\n",
              "    <tr>\n",
              "      <th>50%</th>\n",
              "      <td>2017.000000</td>\n",
              "      <td>3.000000</td>\n",
              "      <td>35.000000</td>\n",
              "    </tr>\n",
              "    <tr>\n",
              "      <th>75%</th>\n",
              "      <td>2018.000000</td>\n",
              "      <td>5.000000</td>\n",
              "      <td>49.000000</td>\n",
              "    </tr>\n",
              "    <tr>\n",
              "      <th>max</th>\n",
              "      <td>2018.000000</td>\n",
              "      <td>21.000000</td>\n",
              "      <td>100.000000</td>\n",
              "    </tr>\n",
              "  </tbody>\n",
              "</table>\n",
              "</div>"
            ],
            "text/plain": [
              "               YEAR  HOUSEHOLDSIZE           AGE\n",
              "count  23340.000000   23340.000000  23340.000000\n",
              "mean    2016.977464       3.688560     38.807069\n",
              "std        0.849136       2.281275     16.519905\n",
              "min     2016.000000       0.000000     16.000000\n",
              "25%     2016.000000       2.000000     26.000000\n",
              "50%     2017.000000       3.000000     35.000000\n",
              "75%     2018.000000       5.000000     49.000000\n",
              "max     2018.000000      21.000000    100.000000"
            ]
          },
          "metadata": {
            "tags": []
          },
          "execution_count": 108
        }
      ]
    },
    {
      "cell_type": "code",
      "metadata": {
        "id": "yPLFDgCSAnrf",
        "colab_type": "code",
        "colab": {
          "base_uri": "https://localhost:8080/",
          "height": 0
        },
        "outputId": "b4b93f77-966a-4397-b1be-8afcc39503df"
      },
      "source": [
        "# INTERQUATILE RANGE AGE\n",
        "q1_AGE,q3_AGE = np.percentile(finance['AGE'],[25,75])\n",
        "iqr_AGE = q3_AGE - q1_AGE\n",
        "print('THE AGE INTERQUATILE RANGE IS',iqr_AGE)\n",
        "# confidence interval\n",
        "l_bound_AGE = q1_AGE - (1.5*iqr_AGE)\n",
        "u_bound_AGE = q3_AGE + (1.5*iqr_AGE)\n",
        "print('Confidence interval is =',u_bound_AGE,'--',l_bound_AGE )\n",
        "print('\\n')\n",
        "\n",
        "# INTERQUATILE RANGE HOUSEHOLDSIZE\n",
        "q1_HOUSEHOLDSIZE,q3_HOUSEHOLDSIZE = np.percentile(finance['HOUSEHOLDSIZE'],[25,75])\n",
        "iqr_HOUSEHOLDSIZE = q3_HOUSEHOLDSIZE - q1_HOUSEHOLDSIZE\n",
        "print('THE HOUSEHOLDSIZE INTERQUATILE RANGE IS',iqr_HOUSEHOLDSIZE)\n",
        "# confidence interval\n",
        "l_bound_HOUSEHOLDSIZE = q1_HOUSEHOLDSIZE - (1.5*iqr_HOUSEHOLDSIZE)\n",
        "u_bound_HOUSEHOLDSIZE = q3_HOUSEHOLDSIZE + (1.5*iqr_HOUSEHOLDSIZE)\n",
        "print('Confidence interval is =',u_bound_HOUSEHOLDSIZE,'--',l_bound_HOUSEHOLDSIZE)"
      ],
      "execution_count": 109,
      "outputs": [
        {
          "output_type": "stream",
          "text": [
            "THE AGE INTERQUATILE RANGE IS 23.0\n",
            "Confidence interval is = 83.5 -- -8.5\n",
            "\n",
            "\n",
            "THE HOUSEHOLDSIZE INTERQUATILE RANGE IS 3.0\n",
            "Confidence interval is = 9.5 -- -2.5\n"
          ],
          "name": "stdout"
        }
      ]
    },
    {
      "cell_type": "code",
      "metadata": {
        "id": "ZDXN8ZFCAnnO",
        "colab_type": "code",
        "colab": {
          "base_uri": "https://localhost:8080/",
          "height": 0
        },
        "outputId": "c10c22f4-f0ee-4e2e-be44-02594432ac30"
      },
      "source": [
        "# range\n",
        "print(\"HOUSEHOLDSIZE RANGE IS =\",finance['HOUSEHOLDSIZE'].max()-finance['HOUSEHOLDSIZE'].min())\n",
        "print(\"HOUSEHOLDSIZE RANGE IS =\",finance['HOUSEHOLDSIZE'].max()-finance['HOUSEHOLDSIZE'].min())"
      ],
      "execution_count": 110,
      "outputs": [
        {
          "output_type": "stream",
          "text": [
            "HOUSEHOLDSIZE RANGE IS = 21.0\n",
            "HOUSEHOLDSIZE RANGE IS = 21.0\n"
          ],
          "name": "stdout"
        }
      ]
    },
    {
      "cell_type": "code",
      "metadata": {
        "id": "QgGxts4MWAcp",
        "colab_type": "code",
        "colab": {
          "base_uri": "https://localhost:8080/",
          "height": 0
        },
        "outputId": "f09a04e7-7102-4e10-d8a2-0ec4b34c61b0"
      },
      "source": [
        "# \n",
        "fig, ((ax1,ax2,ax3),(ax4,ax5,ax6)) = plt.subplots(2,3,figsize = (10,7))\n",
        "\n",
        "plt.suptitle('BAR GRAPHS')\n",
        "\n",
        "plt.xticks(rotation=90)\n",
        "sns.countplot(finance.COUNTRY, ax=ax1)\n",
        "sns.countplot(finance['BANK ACCOUNT'], ax=ax2)\n",
        "sns.countplot(finance['LOCATION'], ax=ax3)\n",
        "\n",
        "EDUCUATION = sns.countplot(finance['EDUCUATION'], ax=ax4)\n",
        "EDUCUATION.set_xticklabels(EDUCUATION.get_xticklabels(),rotation = 90)\n",
        "\n",
        "JOBTYPE=sns.countplot(finance['JOBTYPE'], ax=ax5)\n",
        "JOBTYPE.set_xticklabels(JOBTYPE.get_xticklabels(),rotation = 90)\n",
        "\n",
        "STATUS=sns.countplot(finance['STATUS'], ax=ax6)"
      ],
      "execution_count": 111,
      "outputs": [
        {
          "output_type": "display_data",
          "data": {
            "image/png": "[encoded data removed]",
            "text/plain": [
              "<Figure size 720x504 with 6 Axes>"
            ]
          },
          "metadata": {
            "tags": [],
            "needs_background": "light"
          }
        }
      ]
    },
    {
      "cell_type": "code",
      "metadata": {
        "id": "OEptrvxPN_Sa",
        "colab_type": "code",
        "colab": {
          "base_uri": "https://localhost:8080/",
          "height": 0
        },
        "outputId": "e75689bd-e09c-474b-aa20-c1d98c2a76ff"
      },
      "source": [
        "# VISUALIZE CATEGORICAL DATA\n",
        "\n",
        "fig, (ax4,ax5,ax6) = plt.subplots(1,3,figsize = (12,5))\n",
        "plt.suptitle('BAR GRAPHS')\n",
        "plt.xticks(rotation=90)\n",
        "sns.countplot(finance['PHONE'], ax=ax4)\n",
        "sns.countplot(finance['GENDER'], ax=ax5)\n",
        "sns.countplot(finance['HOUSEHIERACHY'], ax=ax6)"
      ],
      "execution_count": 112,
      "outputs": [
        {
          "output_type": "execute_result",
          "data": {
            "text/plain": [
              "<matplotlib.axes._subplots.AxesSubplot at 0x7ff1d89bf710>"
            ]
          },
          "metadata": {
            "tags": []
          },
          "execution_count": 112
        },
        {
          "output_type": "display_data",
          "data": {
            "image/png": "[encoded data removed]",
            "text/plain": [
              "<Figure size 864x360 with 3 Axes>"
            ]
          },
          "metadata": {
            "tags": [],
            "needs_background": "light"
          }
        }
      ]
    },
    {
      "cell_type": "code",
      "metadata": {
        "id": "MBbp6mNTYNO2",
        "colab_type": "code",
        "colab": {
          "base_uri": "https://localhost:8080/",
          "height": 0
        },
        "outputId": "d35140b2-0a6f-4fb8-bca5-aa66d455653e"
      },
      "source": [
        "# Visualizing Univariate Data\n",
        "# Histogram\n",
        "fig, (ax1,ax2) = plt.subplots(1,2, figsize = (12,5))\n",
        "sns.distplot(finance['AGE'],ax = ax1)\n",
        "sns.distplot(finance['HOUSEHOLDSIZE'],ax = ax2)"
      ],
      "execution_count": 113,
      "outputs": [
        {
          "output_type": "execute_result",
          "data": {
            "text/plain": [
              "<matplotlib.axes._subplots.AxesSubplot at 0x7ff1d88604a8>"
            ]
          },
          "metadata": {
            "tags": []
          },
          "execution_count": 113
        },
        {
          "output_type": "display_data",
          "data": {
            "image/png": "[encoded data removed]",
            "text/plain": [
              "<Figure size 864x360 with 2 Axes>"
            ]
          },
          "metadata": {
            "tags": [],
            "needs_background": "light"
          }
        }
      ]
    },
    {
      "cell_type": "code",
      "metadata": {
        "id": "U5OJlbTleExw",
        "colab_type": "code",
        "colab": {
          "base_uri": "https://localhost:8080/",
          "height": 0
        },
        "outputId": "d0c6c86b-f13a-4dca-ee43-347f55b6dd7a"
      },
      "source": [
        "#SKEWNESS\n",
        "print(\"HOUSEHOLD SIZE SKEWNWSS = \",finance['HOUSEHOLDSIZE'].skew())\n",
        "print(\"HOUSEHOLD SIZE KURTOSIS = \",finance['HOUSEHOLDSIZE'].kurt())\n",
        "print('\\n')\n",
        "print(\"AGE SKEWNWSS = \",finance['AGE'].skew())\n",
        "print(\"AGE KURTOSIS = \",finance['AGE'].kurt())"
      ],
      "execution_count": 114,
      "outputs": [
        {
          "output_type": "stream",
          "text": [
            "HOUSEHOLD SIZE SKEWNWSS =  0.9741827150450616\n",
            "HOUSEHOLD SIZE KURTOSIS =  1.1538357462528523\n",
            "\n",
            "\n",
            "AGE SKEWNWSS =  0.8406145812311228\n",
            "AGE KURTOSIS =  0.09826807013177241\n"
          ],
          "name": "stdout"
        }
      ]
    },
    {
      "cell_type": "code",
      "metadata": {
        "id": "E1mgpMq6afD5",
        "colab_type": "code",
        "colab": {
          "base_uri": "https://localhost:8080/",
          "height": 0
        },
        "outputId": "3e977ce2-36b7-4f0c-d17f-4e26ec797fea"
      },
      "source": [
        "# Frequency tables for categorical variables\n",
        "print('COUNTRY')\n",
        "print(finance.COUNTRY.value_counts())\n",
        "print(\"\\n\")\n",
        "print('YEAR')\n",
        "print(finance['YEAR'].value_counts())\n",
        "print(\"\\n\")\n",
        "print('BANK ACCOUNT ACCESS')\n",
        "print(finance['BANK ACCOUNT'].value_counts())\n",
        "print(\"\\n\")\n",
        "print('RESPONDENTS LOCATION')\n",
        "print(finance['LOCATION'].value_counts())\n",
        "print(\"\\n\")\n",
        "print('CELLPHONE ACCESS')\n",
        "print(finance['PHONE'].value_counts())\n",
        "print(\"\\n\")\n",
        "print('RESPONDENTS GENDER')\n",
        "print(finance['GENDER'].value_counts())\n",
        "print(\"\\n\")\n",
        "print('RESPONDENT RELATIONSHIP RELATION WITH HOUSEHEAD')\n",
        "print(finance['HOUSEHIERACHY'].value_counts())\n",
        "print(\"\\n\")\n",
        "print('MARITAL STATUS')\n",
        "print(finance['STATUS'].value_counts())\n",
        "print(\"\\n\")\n",
        "print('EDUCATION LEVEL')\n",
        "print(finance['EDUCUATION'].value_counts())\n",
        "print(\"\\n\")\n",
        "print('JOBTYPE')\n",
        "print(finance['JOBTYPE'].value_counts())"
      ],
      "execution_count": 115,
      "outputs": [
        {
          "output_type": "stream",
          "text": [
            "COUNTRY\n",
            "rwanda      8683\n",
            "tanzania    6500\n",
            "kenya       6062\n",
            "uganda      2095\n",
            "Name: COUNTRY, dtype: int64\n",
            "\n",
            "\n",
            "YEAR\n",
            "2016    8683\n",
            "2018    8157\n",
            "2017    6500\n",
            "Name: YEAR, dtype: int64\n",
            "\n",
            "\n",
            "BANK ACCOUNT ACCESS\n",
            "no     20044\n",
            "yes     3296\n",
            "Name: BANK ACCOUNT, dtype: int64\n",
            "\n",
            "\n",
            "RESPONDENTS LOCATION\n",
            "rural    14263\n",
            "urban     9077\n",
            "Name: LOCATION, dtype: int64\n",
            "\n",
            "\n",
            "CELLPHONE ACCESS\n",
            "yes    17331\n",
            "no      6009\n",
            "Name: PHONE, dtype: int64\n",
            "\n",
            "\n",
            "RESPONDENTS GENDER\n",
            "female    13766\n",
            "male       9574\n",
            "Name: GENDER, dtype: int64\n",
            "\n",
            "\n",
            "RESPONDENT RELATIONSHIP RELATION WITH HOUSEHEAD\n",
            "head of household      12729\n",
            "spouse                  6470\n",
            "child                   2221\n",
            "parent                  1069\n",
            "other relative           662\n",
            "other non-relatives      189\n",
            "Name: HOUSEHIERACHY, dtype: int64\n",
            "\n",
            "\n",
            "MARITAL STATUS\n",
            "married/living together    10698\n",
            "single/never married        7902\n",
            "widowed                     2683\n",
            "divorced/seperated          2049\n",
            "dont know                      8\n",
            "Name: STATUS, dtype: int64\n",
            "\n",
            "\n",
            "EDUCATION LEVEL\n",
            "primary education                  12688\n",
            "no formal education                 4467\n",
            "secondary education                 4206\n",
            "tertiary education                  1143\n",
            "vocational/specialised training      801\n",
            "6                                     27\n",
            "other/dont know/rta                    8\n",
            "Name: EDUCUATION, dtype: int64\n",
            "\n",
            "\n",
            "JOBTYPE\n",
            "self employed                   6361\n",
            "informally employed             5549\n",
            "farming and fishing             5422\n",
            "remittance dependent            2508\n",
            "other income                    1077\n",
            "formally employed private       1047\n",
            "no income                        618\n",
            "formally employed government     386\n",
            "government dependent             247\n",
            "dont know/refuse to answer       125\n",
            "Name: JOBTYPE, dtype: int64\n"
          ],
          "name": "stdout"
        }
      ]
    },
    {
      "cell_type": "markdown",
      "metadata": {
        "id": "76UF7pkbjZ6L",
        "colab_type": "text"
      },
      "source": [
        "##BIVARIATE ANAYSIS"
      ]
    },
    {
      "cell_type": "code",
      "metadata": {
        "id": "5V3qfG45oI4C",
        "colab_type": "code",
        "colab": {
          "base_uri": "https://localhost:8080/",
          "height": 235
        },
        "outputId": "cd5f78b0-49d4-46ff-f998-2f38dc130ce4"
      },
      "source": [
        "#Convert Categorical Data To Numerical\n",
        "df = finance\n",
        "\n",
        "from sklearn.preprocessing import LabelEncoder\n",
        "Encoder = LabelEncoder()\n",
        "df['ID'] = Encoder.fit_transform(df['ID'])\n",
        "df['BANK ACCOUNT']= Encoder.fit_transform(df['BANK ACCOUNT'])\n",
        "df['PHONE']= Encoder.fit_transform(df['PHONE'])\n",
        "df['HOUSEHOLDSIZE']= Encoder.fit_transform(df['HOUSEHOLDSIZE'])\n",
        "df['AGE']= Encoder.fit_transform(df['AGE'])\n",
        "df['GENDER']= Encoder.fit_transform(df['GENDER'])\n",
        "df['HOUSEHIERACHY']= Encoder.fit_transform(df['HOUSEHIERACHY'])\n",
        "df['STATUS']= Encoder.fit_transform(df['STATUS'])\n",
        "df['EDUCUATION']= Encoder.fit_transform(df['EDUCUATION'])\n",
        "df['LOCATION']= Encoder.fit_transform(df['LOCATION'])\n",
        "df['JOBTYPE']= Encoder.fit_transform(df['JOBTYPE'])\n",
        "\n",
        "df.head()"
      ],
      "execution_count": 116,
      "outputs": [
        {
          "output_type": "execute_result",
          "data": {
            "text/html": [
              "<div>\n",
              "<style scoped>\n",
              "    .dataframe tbody tr th:only-of-type {\n",
              "        vertical-align: middle;\n",
              "    }\n",
              "\n",
              "    .dataframe tbody tr th {\n",
              "        vertical-align: top;\n",
              "    }\n",
              "\n",
              "    .dataframe thead th {\n",
              "        text-align: right;\n",
              "    }\n",
              "</style>\n",
              "<table border=\"1\" class=\"dataframe\">\n",
              "  <thead>\n",
              "    <tr style=\"text-align: right;\">\n",
              "      <th></th>\n",
              "      <th>COUNTRY</th>\n",
              "      <th>YEAR</th>\n",
              "      <th>ID</th>\n",
              "      <th>BANK ACCOUNT</th>\n",
              "      <th>LOCATION</th>\n",
              "      <th>PHONE</th>\n",
              "      <th>HOUSEHOLDSIZE</th>\n",
              "      <th>AGE</th>\n",
              "      <th>GENDER</th>\n",
              "      <th>HOUSEHIERACHY</th>\n",
              "      <th>STATUS</th>\n",
              "      <th>EDUCUATION</th>\n",
              "      <th>JOBTYPE</th>\n",
              "    </tr>\n",
              "  </thead>\n",
              "  <tbody>\n",
              "    <tr>\n",
              "      <th>0</th>\n",
              "      <td>kenya</td>\n",
              "      <td>2018</td>\n",
              "      <td>0</td>\n",
              "      <td>1</td>\n",
              "      <td>0</td>\n",
              "      <td>1</td>\n",
              "      <td>3</td>\n",
              "      <td>8</td>\n",
              "      <td>0</td>\n",
              "      <td>5</td>\n",
              "      <td>2</td>\n",
              "      <td>4</td>\n",
              "      <td>9</td>\n",
              "    </tr>\n",
              "    <tr>\n",
              "      <th>1</th>\n",
              "      <td>kenya</td>\n",
              "      <td>2018</td>\n",
              "      <td>1111</td>\n",
              "      <td>0</td>\n",
              "      <td>0</td>\n",
              "      <td>0</td>\n",
              "      <td>5</td>\n",
              "      <td>54</td>\n",
              "      <td>0</td>\n",
              "      <td>1</td>\n",
              "      <td>4</td>\n",
              "      <td>1</td>\n",
              "      <td>4</td>\n",
              "    </tr>\n",
              "    <tr>\n",
              "      <th>2</th>\n",
              "      <td>kenya</td>\n",
              "      <td>2018</td>\n",
              "      <td>2222</td>\n",
              "      <td>1</td>\n",
              "      <td>1</td>\n",
              "      <td>1</td>\n",
              "      <td>5</td>\n",
              "      <td>10</td>\n",
              "      <td>1</td>\n",
              "      <td>3</td>\n",
              "      <td>3</td>\n",
              "      <td>6</td>\n",
              "      <td>9</td>\n",
              "    </tr>\n",
              "    <tr>\n",
              "      <th>3</th>\n",
              "      <td>kenya</td>\n",
              "      <td>2018</td>\n",
              "      <td>3333</td>\n",
              "      <td>0</td>\n",
              "      <td>0</td>\n",
              "      <td>1</td>\n",
              "      <td>5</td>\n",
              "      <td>18</td>\n",
              "      <td>0</td>\n",
              "      <td>1</td>\n",
              "      <td>2</td>\n",
              "      <td>3</td>\n",
              "      <td>3</td>\n",
              "    </tr>\n",
              "    <tr>\n",
              "      <th>4</th>\n",
              "      <td>kenya</td>\n",
              "      <td>2018</td>\n",
              "      <td>4444</td>\n",
              "      <td>0</td>\n",
              "      <td>1</td>\n",
              "      <td>0</td>\n",
              "      <td>8</td>\n",
              "      <td>10</td>\n",
              "      <td>1</td>\n",
              "      <td>0</td>\n",
              "      <td>3</td>\n",
              "      <td>3</td>\n",
              "      <td>5</td>\n",
              "    </tr>\n",
              "  </tbody>\n",
              "</table>\n",
              "</div>"
            ],
            "text/plain": [
              "  COUNTRY  YEAR    ID  BANK ACCOUNT  ...  HOUSEHIERACHY  STATUS  EDUCUATION  JOBTYPE\n",
              "0   kenya  2018     0             1  ...              5       2           4        9\n",
              "1   kenya  2018  1111             0  ...              1       4           1        4\n",
              "2   kenya  2018  2222             1  ...              3       3           6        9\n",
              "3   kenya  2018  3333             0  ...              1       2           3        3\n",
              "4   kenya  2018  4444             0  ...              0       3           3        5\n",
              "\n",
              "[5 rows x 13 columns]"
            ]
          },
          "metadata": {
            "tags": []
          },
          "execution_count": 116
        }
      ]
    },
    {
      "cell_type": "code",
      "metadata": {
        "id": "OYKfTEtPq-zI",
        "colab_type": "code",
        "colab": {
          "base_uri": "https://localhost:8080/",
          "height": 272
        },
        "outputId": "592184a1-b5b5-4db3-e0bf-2e4a709fdfad"
      },
      "source": [
        "df.nunique()"
      ],
      "execution_count": 117,
      "outputs": [
        {
          "output_type": "execute_result",
          "data": {
            "text/plain": [
              "COUNTRY             4\n",
              "YEAR                3\n",
              "ID               8687\n",
              "BANK ACCOUNT        2\n",
              "LOCATION            2\n",
              "PHONE               2\n",
              "HOUSEHOLDSIZE      21\n",
              "AGE                85\n",
              "GENDER              2\n",
              "HOUSEHIERACHY       6\n",
              "STATUS              5\n",
              "EDUCUATION          7\n",
              "JOBTYPE            10\n",
              "dtype: int64"
            ]
          },
          "metadata": {
            "tags": []
          },
          "execution_count": 117
        }
      ]
    },
    {
      "cell_type": "code",
      "metadata": {
        "id": "FPXh6Ljmj5dN",
        "colab_type": "code",
        "colab": {
          "base_uri": "https://localhost:8080/",
          "height": 565
        },
        "outputId": "b970f082-4ef1-47b7-bd05-6beadde3b2cb"
      },
      "source": [
        "# Describing our data\n",
        "\n",
        "!pip install researchpy\n",
        "import researchpy as rp\n",
        "print('AGE ANALYSIS PER COUNRY')\n",
        "print(round(rp.summary_cont(finance.groupby(['COUNTRY'])['AGE'])))\n",
        "print('\\n')\n",
        "print('HOUSEHOLDSIZE ANALYSIS PER COUNRY')\n",
        "print(round(rp.summary_cont(finance.groupby(['COUNTRY'])['HOUSEHOLDSIZE'])))"
      ],
      "execution_count": 118,
      "outputs": [
        {
          "output_type": "stream",
          "text": [
            "Requirement already satisfied: researchpy in /usr/local/lib/python3.6/dist-packages (0.1.9)\n",
            "Requirement already satisfied: numpy in /usr/local/lib/python3.6/dist-packages (from researchpy) (1.18.3)\n",
            "Requirement already satisfied: statsmodels in /usr/local/lib/python3.6/dist-packages (from researchpy) (0.10.2)\n",
            "Requirement already satisfied: scipy in /usr/local/lib/python3.6/dist-packages (from researchpy) (1.4.1)\n",
            "Requirement already satisfied: pandas in /usr/local/lib/python3.6/dist-packages (from researchpy) (1.0.3)\n",
            "Requirement already satisfied: patsy>=0.4.0 in /usr/local/lib/python3.6/dist-packages (from statsmodels->researchpy) (0.5.1)\n",
            "Requirement already satisfied: pytz>=2017.2 in /usr/local/lib/python3.6/dist-packages (from pandas->researchpy) (2018.9)\n",
            "Requirement already satisfied: python-dateutil>=2.6.1 in /usr/local/lib/python3.6/dist-packages (from pandas->researchpy) (2.8.1)\n",
            "Requirement already satisfied: six in /usr/local/lib/python3.6/dist-packages (from patsy>=0.4.0->statsmodels->researchpy) (1.12.0)\n",
            "AGE ANALYSIS PER COUNRY\n",
            "\n",
            "\n",
            "             N  Mean    SD   SE  95% Conf.  Interval\n",
            "COUNTRY                                             \n",
            "kenya     6062  24.0  17.0  0.0       23.0      24.0\n",
            "rwanda    8683  23.0  16.0  0.0       23.0      24.0\n",
            "tanzania  6500  22.0  16.0  0.0       22.0      23.0\n",
            "uganda    2095  19.0  15.0  0.0       19.0      20.0\n",
            "\n",
            "\n",
            "HOUSEHOLDSIZE ANALYSIS PER COUNRY\n",
            "\n",
            "\n",
            "             N  Mean   SD   SE  95% Conf.  Interval\n",
            "COUNTRY                                            \n",
            "kenya     6062   4.0  2.0  0.0        4.0       4.0\n",
            "rwanda    8683   4.0  2.0  0.0        4.0       5.0\n",
            "tanzania  6500   2.0  1.0  0.0        2.0       2.0\n",
            "uganda    2095   5.0  3.0  0.0        5.0       5.0\n"
          ],
          "name": "stdout"
        }
      ]
    },
    {
      "cell_type": "code",
      "metadata": {
        "id": "SXMgMRzn37CR",
        "colab_type": "code",
        "colab": {
          "base_uri": "https://localhost:8080/",
          "height": 313
        },
        "outputId": "e46d38b6-d904-424a-b587-e546c9370961"
      },
      "source": [
        " # VISUALIVING RELATIONSHIP BETWEEN GENDER AND ACCESS TO BANK ACCOUNT\n",
        "df.plot(x= 'AGE', y= 'HOUSEHOLDSIZE', kind = \"scatter\")\n",
        "plt.title(\"HOUSEHOLD SIZE AND AGE SCATTER PLOT\")"
      ],
      "execution_count": 119,
      "outputs": [
        {
          "output_type": "execute_result",
          "data": {
            "text/plain": [
              "Text(0.5, 1.0, 'HOUSEHOLD SIZE AND AGE SCATTER PLOT')"
            ]
          },
          "metadata": {
            "tags": []
          },
          "execution_count": 119
        },
        {
          "output_type": "display_data",
          "data": {
            "image/png": "[encoded data removed]",
            "text/plain": [
              "<Figure size 432x288 with 1 Axes>"
            ]
          },
          "metadata": {
            "tags": [],
            "needs_background": "light"
          }
        }
      ]
    },
    {
      "cell_type": "code",
      "metadata": {
        "id": "667daTzA7DDC",
        "colab_type": "code",
        "colab": {
          "base_uri": "https://localhost:8080/",
          "height": 283
        },
        "outputId": "f41c32e0-0088-4a81-87d9-5a0667ebff56"
      },
      "source": [
        "finance[['AGE','COUNTRY']].plot()"
      ],
      "execution_count": 123,
      "outputs": [
        {
          "output_type": "execute_result",
          "data": {
            "text/plain": [
              "<matplotlib.axes._subplots.AxesSubplot at 0x7ff1d8565b00>"
            ]
          },
          "metadata": {
            "tags": []
          },
          "execution_count": 123
        },
        {
          "output_type": "display_data",
          "data": {
            "image/png": "[encoded data removed]",
            "text/plain": [
              "<Figure size 432x288 with 1 Axes>"
            ]
          },
          "metadata": {
            "tags": [],
            "needs_background": "light"
          }
        }
      ]
    },
    {
      "cell_type": "code",
      "metadata": {
        "id": "-T4Tty179x9u",
        "colab_type": "code",
        "colab": {}
      },
      "source": [
        ""
      ],
      "execution_count": 0,
      "outputs": []
    }
  ]
}